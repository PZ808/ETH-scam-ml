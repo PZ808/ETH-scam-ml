{
 "cells": [
  {
   "cell_type": "markdown",
   "metadata": {
    "id": "Icl4wxnkDknx"
   },
   "source": [
    "<h2>Imports"
   ]
  },
  {
   "cell_type": "code",
   "execution_count": 22,
   "metadata": {
    "executionInfo": {
     "elapsed": 1159,
     "status": "ok",
     "timestamp": 1667480350947,
     "user": {
      "displayName": "Calvin The",
      "userId": "15660836313594304127"
     },
     "user_tz": -480
    },
    "id": "RAnpqYK8Dkn0"
   },
   "outputs": [],
   "source": [
    "from xgboost import XGBClassifier, plot_importance\n",
    "from sklearn.model_selection import GridSearchCV, train_test_split\n",
    "from sklearn.metrics import accuracy_score, roc_auc_score, confusion_matrix,f1_score\n",
    "from sklearn.preprocessing import MinMaxScaler\n",
    "from math import sqrt\n",
    "import pandas as pd\n",
    "import numpy as np\n",
    "import seaborn as sb\n",
    "import matplotlib.pyplot as plt\n",
    "import warnings\n",
    "warnings.filterwarnings('ignore', category=DeprecationWarning)\n",
    "warnings.filterwarnings('ignore', category=UserWarning)"
   ]
  },
  {
   "cell_type": "code",
   "execution_count": 23,
   "metadata": {
    "executionInfo": {
     "elapsed": 2,
     "status": "ok",
     "timestamp": 1667480358289,
     "user": {
      "displayName": "Calvin The",
      "userId": "15660836313594304127"
     },
     "user_tz": -480
    },
    "id": "bqj82k9dhWE3"
   },
   "outputs": [
    {
     "data": {
      "text/plain": "Index(['address', 'avg_min_between_sent_txn', 'avg_min_between_received_txn',\n       'time_diff_between_first_and_last_mins',\n       'unique_received_from_addresses', 'min_val_received',\n       'max_val_received', 'min_val_sent', 'avg_val_sent',\n       'total_transactions_inc_cnts', 'total_ether_received',\n       'total_ether_balance', 'flag'],\n      dtype='object')"
     },
     "execution_count": 23,
     "metadata": {},
     "output_type": "execute_result"
    }
   ],
   "source": [
    "df = pd.read_csv('eth_txn_unscaled_Vars.csv')\n",
    "                 #'../Data/address_data_combined.csv')\n",
    "df.columns"
   ]
  },
  {
   "cell_type": "code",
   "execution_count": 24,
   "outputs": [
    {
     "data": {
      "text/plain": "address                                  False\navg_min_between_sent_txn                 False\navg_min_between_received_txn             False\ntime_diff_between_first_and_last_mins    False\nunique_received_from_addresses           False\nmin_val_received                         False\nmax_val_received                         False\nmin_val_sent                             False\navg_val_sent                             False\ntotal_transactions_inc_cnts              False\ntotal_ether_received                     False\ntotal_ether_balance                      False\nflag                                     False\ndtype: bool"
     },
     "execution_count": 24,
     "metadata": {},
     "output_type": "execute_result"
    }
   ],
   "source": [
    "df.isin([np.nan, np.inf, -np.inf]).any()"
   ],
   "metadata": {
    "collapsed": false
   }
  },
  {
   "cell_type": "code",
   "execution_count": 25,
   "metadata": {
    "executionInfo": {
     "elapsed": 1,
     "status": "ok",
     "timestamp": 1667480361686,
     "user": {
      "displayName": "Calvin The",
      "userId": "15660836313594304127"
     },
     "user_tz": -480
    },
    "id": "LmtH5n7QhXTP"
   },
   "outputs": [],
   "source": [
    "X = df.drop(columns=['address', 'flag'])\n",
    "y = df['flag']\n",
    "X_train, X_test, y_train, y_test = train_test_split(X, y, test_size=0.3, random_state=42, stratify=y)"
   ]
  },
  {
   "cell_type": "code",
   "execution_count": 26,
   "metadata": {},
   "outputs": [],
   "source": [
    "columns = list(X.columns)\n",
    "\n",
    "X_train_df = pd.DataFrame(X_train, columns=columns)\n",
    "X_test_df = pd.DataFrame(X_test, columns=columns)\n",
    "\n",
    "scaler = MinMaxScaler()\n",
    "\n",
    "# Log for Skewed Data\n",
    "for c in columns:\n",
    "  X_train[c] = X_train[c].apply(lambda x: np.log(x) if x > 0 else 0)\n",
    "  X_test[c] = X_test[c].apply(lambda x: np.log(x) if x > 0 else 0)\n",
    "\n",
    "# Scaling\n",
    "X_train = scaler.fit_transform(X_train)\n",
    "X_test = scaler.transform(X_test)"
   ]
  },
  {
   "cell_type": "code",
   "execution_count": 44,
   "outputs": [],
   "source": [
    "import pickle"
   ],
   "metadata": {
    "collapsed": false
   }
  },
  {
   "cell_type": "code",
   "execution_count": 45,
   "outputs": [],
   "source": [
    "pickle.dump(scaler, open('scaler.pkl', 'wb'))"
   ],
   "metadata": {
    "collapsed": false
   }
  },
  {
   "cell_type": "code",
   "execution_count": 27,
   "metadata": {
    "executionInfo": {
     "elapsed": 752,
     "status": "ok",
     "timestamp": 1667481253339,
     "user": {
      "displayName": "Calvin The",
      "userId": "15660836313594304127"
     },
     "user_tz": -480
    },
    "id": "oOTb3NHJf_WO"
   },
   "outputs": [],
   "source": [
    "params = {\n",
    "    'max_depth': range (2, 10, 1),\n",
    "    'n_estimators': range(1000,1500,100),\n",
    "    'learning_rate': [0.1, 0.01, 0.05]\n",
    "}"
   ]
  },
  {
   "cell_type": "code",
   "execution_count": 28,
   "metadata": {
    "executionInfo": {
     "elapsed": 515,
     "status": "ok",
     "timestamp": 1667481256131,
     "user": {
      "displayName": "Calvin The",
      "userId": "15660836313594304127"
     },
     "user_tz": -480
    },
    "id": "C70Yc5XhgPUw"
   },
   "outputs": [],
   "source": [
    "clf = XGBClassifier(\n",
    "    objective= 'binary:logistic',\n",
    "    seed=42,\n",
    "    n_jobs=-1,\n",
    "    verbosity=0,\n",
    "    silent=True,\n",
    ")"
   ]
  },
  {
   "cell_type": "code",
   "execution_count": 8,
   "metadata": {
    "executionInfo": {
     "elapsed": 2,
     "status": "ok",
     "timestamp": 1667481258718,
     "user": {
      "displayName": "Calvin The",
      "userId": "15660836313594304127"
     },
     "user_tz": -480
    },
    "id": "Ys-fY6tQh-zk"
   },
   "outputs": [],
   "source": [
    "tuned_clf = GridSearchCV(estimator=clf,\n",
    "                         param_grid=params,\n",
    "                         scoring='f1',\n",
    "                         cv=5,\n",
    "                         verbose=0,\n",
    "                         ).fit(X_train,y_train)"
   ]
  },
  {
   "cell_type": "code",
   "execution_count": 9,
   "metadata": {},
   "outputs": [
    {
     "name": "stdout",
     "output_type": "stream",
     "text": [
      "Tuned Hyperparameters : {'learning_rate': 0.1, 'max_depth': 4, 'n_estimators': 1200}\n",
      "Train F1 Score : 0.8697088488299058\n",
      "Test F1 Score:  0.8804071246819338\n"
     ]
    }
   ],
   "source": [
    "print(\"Tuned Hyperparameters :\", tuned_clf.best_params_)\n",
    "print(\"Train F1 Score :\",tuned_clf.best_score_)\n",
    "best_y_pr = tuned_clf.predict(X_test)\n",
    "print('Test F1 Score: ', f1_score(y_test, best_y_pr))"
   ]
  },
  {
   "cell_type": "code",
   "execution_count": 10,
   "metadata": {},
   "outputs": [
    {
     "data": {
      "text/plain": "<Figure size 720x432 with 1 Axes>",
      "image/png": "[encoded data removed]"
     },
     "metadata": {
      "needs_background": "light"
     },
     "output_type": "display_data"
    }
   ],
   "source": [
    "from matplotlib import pyplot as plt\n",
    "feat_importances = tuned_clf.best_estimator_.feature_importances_\n",
    "indices = np.argsort(feat_importances)\n",
    "# plot\n",
    "fig, ax = plt.subplots(figsize=(10, 6))\n",
    "plt.title(\"Ranked feature importances\")\n",
    "plt.barh(range(len(feat_importances)), feat_importances[indices], align=\"center\")\n",
    "features = ['feature_{}'.format(columns[i]) for i in range(len(columns))]\n",
    "plt.yticks(range(len(feat_importances)), [features[idx] for idx in indices])\n",
    "plt.ylim([-1, len(feat_importances)])\n",
    "plt.show();"
   ]
  },
  {
   "cell_type": "code",
   "execution_count": 39,
   "metadata": {
    "colab": {
     "base_uri": "https://localhost:8080/"
    },
    "executionInfo": {
     "elapsed": 397,
     "status": "ok",
     "timestamp": 1667487572357,
     "user": {
      "displayName": "Calvin The",
      "userId": "15660836313594304127"
     },
     "user_tz": -480
    },
    "id": "jZozGXFDnqrV",
    "outputId": "515dea69-0abb-44cb-fa94-27f9f1c5c715"
   },
   "outputs": [
    {
     "data": {
      "text/plain": "XGBClassifier(base_score=0.5, booster='gbtree', colsample_bylevel=1,\n              colsample_bynode=1, colsample_bytree=1, enable_categorical=False,\n              gamma=0, gpu_id=-1, importance_type=None,\n              interaction_constraints='', learning_rate=0.1, max_delta_step=0,\n              max_depth=4, min_child_weight=1, missing=nan,\n              monotone_constraints='()', n_estimators=1200, n_jobs=-1,\n              num_parallel_tree=1, predictor='auto', random_state=42,\n              reg_alpha=0, reg_lambda=1, scale_pos_weight=1, seed=42,\n              silent=True, subsample=1, tree_method='exact',\n              validate_parameters=1, verbosity=0)",
      "text/html": "<style>#sk-container-id-2 {color: black;background-color: white;}#sk-container-id-2 pre{padding: 0;}#sk-container-id-2 div.sk-toggleable {background-color: white;}#sk-container-id-2 label.sk-toggleable__label {cursor: pointer;display: block;width: 100%;margin-bottom: 0;padding: 0.3em;box-sizing: border-box;text-align: center;}#sk-container-id-2 label.sk-toggleable__label-arrow:before {content: \"▸\";float: left;margin-right: 0.25em;color: #696969;}#sk-container-id-2 label.sk-toggleable__label-arrow:hover:before {color: black;}#sk-container-id-2 div.sk-estimator:hover label.sk-toggleable__label-arrow:before {color: black;}#sk-container-id-2 div.sk-toggleable__content {max-height: 0;max-width: 0;overflow: hidden;text-align: left;background-color: #f0f8ff;}#sk-container-id-2 div.sk-toggleable__content pre {margin: 0.2em;color: black;border-radius: 0.25em;background-color: #f0f8ff;}#sk-container-id-2 input.sk-toggleable__control:checked~div.sk-toggleable__content {max-height: 200px;max-width: 100%;overflow: auto;}#sk-container-id-2 input.sk-toggleable__control:checked~label.sk-toggleable__label-arrow:before {content: \"▾\";}#sk-container-id-2 div.sk-estimator input.sk-toggleable__control:checked~label.sk-toggleable__label {background-color: #d4ebff;}#sk-container-id-2 div.sk-label input.sk-toggleable__control:checked~label.sk-toggleable__label {background-color: #d4ebff;}#sk-container-id-2 input.sk-hidden--visually {border: 0;clip: rect(1px 1px 1px 1px);clip: rect(1px, 1px, 1px, 1px);height: 1px;margin: -1px;overflow: hidden;padding: 0;position: absolute;width: 1px;}#sk-container-id-2 div.sk-estimator {font-family: monospace;background-color: #f0f8ff;border: 1px dotted black;border-radius: 0.25em;box-sizing: border-box;margin-bottom: 0.5em;}#sk-container-id-2 div.sk-estimator:hover {background-color: #d4ebff;}#sk-container-id-2 div.sk-parallel-item::after {content: \"\";width: 100%;border-bottom: 1px solid gray;flex-grow: 1;}#sk-container-id-2 div.sk-label:hover label.sk-toggleable__label {background-color: #d4ebff;}#sk-container-id-2 div.sk-serial::before {content: \"\";position: absolute;border-left: 1px solid gray;box-sizing: border-box;top: 0;bottom: 0;left: 50%;z-index: 0;}#sk-container-id-2 div.sk-serial {display: flex;flex-direction: column;align-items: center;background-color: white;padding-right: 0.2em;padding-left: 0.2em;position: relative;}#sk-container-id-2 div.sk-item {position: relative;z-index: 1;}#sk-container-id-2 div.sk-parallel {display: flex;align-items: stretch;justify-content: center;background-color: white;position: relative;}#sk-container-id-2 div.sk-item::before, #sk-container-id-2 div.sk-parallel-item::before {content: \"\";position: absolute;border-left: 1px solid gray;box-sizing: border-box;top: 0;bottom: 0;left: 50%;z-index: -1;}#sk-container-id-2 div.sk-parallel-item {display: flex;flex-direction: column;z-index: 1;position: relative;background-color: white;}#sk-container-id-2 div.sk-parallel-item:first-child::after {align-self: flex-end;width: 50%;}#sk-container-id-2 div.sk-parallel-item:last-child::after {align-self: flex-start;width: 50%;}#sk-container-id-2 div.sk-parallel-item:only-child::after {width: 0;}#sk-container-id-2 div.sk-dashed-wrapped {border: 1px dashed gray;margin: 0 0.4em 0.5em 0.4em;box-sizing: border-box;padding-bottom: 0.4em;background-color: white;}#sk-container-id-2 div.sk-label label {font-family: monospace;font-weight: bold;display: inline-block;line-height: 1.2em;}#sk-container-id-2 div.sk-label-container {text-align: center;}#sk-container-id-2 div.sk-container {/* jupyter's `normalize.less` sets `[hidden] { display: none; }` but bootstrap.min.css set `[hidden] { display: none !important; }` so we also need the `!important` here to be able to override the default hidden behavior on the sphinx rendered scikit-learn.org. See: https://github.com/scikit-learn/scikit-learn/issues/21755 */display: inline-block !important;position: relative;}#sk-container-id-2 div.sk-text-repr-fallback {display: none;}</style><div id=\"sk-container-id-2\" class=\"sk-top-container\"><div class=\"sk-text-repr-fallback\"><pre>XGBClassifier(base_score=0.5, booster=&#x27;gbtree&#x27;, colsample_bylevel=1,\n              colsample_bynode=1, colsample_bytree=1, enable_categorical=False,\n              gamma=0, gpu_id=-1, importance_type=None,\n              interaction_constraints=&#x27;&#x27;, learning_rate=0.1, max_delta_step=0,\n              max_depth=4, min_child_weight=1, missing=nan,\n              monotone_constraints=&#x27;()&#x27;, n_estimators=1200, n_jobs=-1,\n              num_parallel_tree=1, predictor=&#x27;auto&#x27;, random_state=42,\n              reg_alpha=0, reg_lambda=1, scale_pos_weight=1, seed=42,\n              silent=True, subsample=1, tree_method=&#x27;exact&#x27;,\n              validate_parameters=1, verbosity=0)</pre><b>In a Jupyter environment, please rerun this cell to show the HTML representation or trust the notebook. <br />On GitHub, the HTML representation is unable to render, please try loading this page with nbviewer.org.</b></div><div class=\"sk-container\" hidden><div class=\"sk-item\"><div class=\"sk-estimator sk-toggleable\"><input class=\"sk-toggleable__control sk-hidden--visually\" id=\"sk-estimator-id-2\" type=\"checkbox\" checked><label for=\"sk-estimator-id-2\" class=\"sk-toggleable__label sk-toggleable__label-arrow\">XGBClassifier</label><div class=\"sk-toggleable__content\"><pre>XGBClassifier(base_score=0.5, booster=&#x27;gbtree&#x27;, colsample_bylevel=1,\n              colsample_bynode=1, colsample_bytree=1, enable_categorical=False,\n              gamma=0, gpu_id=-1, importance_type=None,\n              interaction_constraints=&#x27;&#x27;, learning_rate=0.1, max_delta_step=0,\n              max_depth=4, min_child_weight=1, missing=nan,\n              monotone_constraints=&#x27;()&#x27;, n_estimators=1200, n_jobs=-1,\n              num_parallel_tree=1, predictor=&#x27;auto&#x27;, random_state=42,\n              reg_alpha=0, reg_lambda=1, scale_pos_weight=1, seed=42,\n              silent=True, subsample=1, tree_method=&#x27;exact&#x27;,\n              validate_parameters=1, verbosity=0)</pre></div></div></div></div></div>"
     },
     "execution_count": 39,
     "metadata": {},
     "output_type": "execute_result"
    }
   ],
   "source": [
    "tuned_clf.best_estimator_"
   ]
  },
  {
   "cell_type": "code",
   "execution_count": 40,
   "metadata": {
    "colab": {
     "base_uri": "https://localhost:8080/"
    },
    "executionInfo": {
     "elapsed": 2,
     "status": "ok",
     "timestamp": 1667487574316,
     "user": {
      "displayName": "Calvin The",
      "userId": "15660836313594304127"
     },
     "user_tz": -480
    },
    "id": "T-jpCBSLoAP1",
    "outputId": "53df80ad-96d4-464a-f849-479d028bc018"
   },
   "outputs": [
    {
     "data": {
      "text/plain": "0.8697088488299058"
     },
     "execution_count": 40,
     "metadata": {},
     "output_type": "execute_result"
    }
   ],
   "source": [
    "tuned_clf.best_score_"
   ]
  },
  {
   "cell_type": "code",
   "execution_count": 41,
   "metadata": {
    "colab": {
     "base_uri": "https://localhost:8080/"
    },
    "executionInfo": {
     "elapsed": 1257,
     "status": "ok",
     "timestamp": 1667488157561,
     "user": {
      "displayName": "Calvin The",
      "userId": "15660836313594304127"
     },
     "user_tz": -480
    },
    "id": "DP7Im9gWCUGd",
    "outputId": "bba02467-9426-4e47-c1bf-c2078daaaa90"
   },
   "outputs": [
    {
     "name": "stdout",
     "output_type": "stream",
     "text": [
      "XGBoost model accuracy score: 0.9650and roc_auc score: 0.9650\n"
     ]
    }
   ],
   "source": [
    "y_pred = tuned_clf.predict(X_test)\n",
    "xgb_accuracy_score = accuracy_score(y_test, y_pred)\n",
    "xgb_auc_score = roc_auc_score(y_test, y_pred)\n",
    "print('XGBoost model accuracy score: {0:0.4f}'\n",
    "      'and roc_auc score: {0:0.4f}'. format(xgb_accuracy_score,xgb_auc_score))"
   ]
  },
  {
   "cell_type": "code",
   "execution_count": 43,
   "outputs": [
    {
     "data": {
      "text/plain": "array([[9.9996918e-01, 3.0795680e-05],\n       [9.9841684e-01, 1.5831467e-03],\n       [9.9999660e-01, 3.3905053e-06],\n       ...,\n       [9.9999893e-01, 1.0760606e-06],\n       [9.9999875e-01, 1.2638611e-06],\n       [9.9994516e-01, 5.4831202e-05]], dtype=float32)"
     },
     "execution_count": 43,
     "metadata": {},
     "output_type": "execute_result"
    }
   ],
   "source": [
    "y_pred_prob = tuned_clf.predict_proba(X_test)\n",
    "y_pred_prob"
   ],
   "metadata": {
    "collapsed": false
   }
  },
  {
   "cell_type": "markdown",
   "metadata": {
    "id": "medvBByeDkn7"
   },
   "source": [
    "<h2>Overall Average Performance"
   ]
  },
  {
   "cell_type": "markdown",
   "metadata": {
    "id": "ZVk7gIchDkn8"
   },
   "source": [
    "    <h2>Model Confusion Matrix and Statistics"
   ]
  },
  {
   "cell_type": "code",
   "execution_count": 35,
   "metadata": {
    "id": "2lgrUzQRDkn8",
    "outputId": "2230b348-243e-4ee3-b93d-79ea93d52c9f"
   },
   "outputs": [
    {
     "name": "stdout",
     "output_type": "stream",
     "text": [
      "Model Confusion Matrix Statistics:\n",
      "\n",
      " recall: 0.8543\n",
      "\n",
      " false_neg_rate: 0.1457\n",
      "\n",
      " false_pos_rate: 0.0153\n",
      "\n",
      " true_neg_rate: 0.9847\n",
      "\n",
      " positive_liklihood_ratio: 55.7017\n",
      "\n",
      " neg_liklihood_rate: 0.1479\n",
      "\n",
      " precision: 0.9081\n",
      "\n",
      " false_omission_rate: 0.0256\n",
      "\n",
      " false_discovery_rate: 0.0919\n",
      "\n",
      " neg_pred_value: 0.9744\n",
      "\n",
      " markedness: 0.8826\n",
      "\n",
      " diagnostic_odds_ration: 376.4949\n",
      "\n",
      " informedness: 0.8390\n",
      "\n",
      " prevalence_threshold: 0.1182\n",
      "\n",
      " prevalence: 0.1507\n",
      "\n",
      " accuracy: 0.9650\n",
      "\n",
      " balanced_accuracy: 0.9195\n",
      "\n",
      " F1_score: 0.8804\n",
      "\n",
      " fowlkes_mallows_index: 0.8808\n",
      "\n",
      " jaccard_index: 0.7864\n"
     ]
    },
    {
     "data": {
      "text/plain": "<Figure size 360x360 with 2 Axes>",
      "image/png": "[encoded data removed]"
     },
     "metadata": {
      "needs_background": "light"
     },
     "output_type": "display_data"
    }
   ],
   "source": [
    "def model_diagnostic_stats(confusion_matrix):\n",
    "    tp = confusion_matrix[1,1]\n",
    "    tn = confusion_matrix[0,0]\n",
    "    fp = confusion_matrix[0,1]\n",
    "    fn = confusion_matrix[1,0]\n",
    "\n",
    "    p = tp + fn\n",
    "    n = fp + tn\n",
    "    pp = tp + fp\n",
    "    pn = fn + tn\n",
    "\n",
    "    diagnostic_dict = {\n",
    "    'recall' : tp/p,\n",
    "    'false_neg_rate' : fn/p,\n",
    "    'false_pos_rate' : fp/n,\n",
    "    'true_neg_rate' : tn/n,\n",
    "    'positive_liklihood_ratio' : (tp/p)/(fp/n),\n",
    "    'neg_liklihood_rate' : (fn/p)/(tn/n),\n",
    "    'precision' : tp/pp,\n",
    "    'false_omission_rate' : fn/pn,\n",
    "    'false_discovery_rate' : fp/pp,\n",
    "    'neg_pred_value' : tn/pn,\n",
    "    'markedness' : (tp/pp)+(tn/pn)-1,\n",
    "    'diagnostic_odds_ration' : ((tp/p)/(fp/n))/( (fn/p)/(tn/n)),\n",
    "    'informedness' : (tp/p)+(tn/n)-1,\n",
    "    'prevalence_threshold' : (sqrt((tp/p)*(fp/n))-(fp/n))/((tp/p)-(fp/n)),\n",
    "    'prevalence' : p/(p+n),\n",
    "    'accuracy' : (tp+tn)/(p+n),\n",
    "    'balanced_accuracy' : ((tp/p)+(tn/n))/2,\n",
    "    'F1_score' : 2*tp/(2*tp+fp+fn),\n",
    "    'fowlkes_mallows_index' : sqrt((tp/pp)*(tp/p)),\n",
    "    'jaccard_index' : tp/(tp+fn+fp),\n",
    "    }\n",
    "\n",
    "    return diagnostic_dict\n",
    "cm_matrix = confusion_matrix(y_test,y_pred)\n",
    "fig, ax = plt.subplots(figsize=(5,5))\n",
    "sb.heatmap(cm_matrix,annot=True,fmt='g',cmap=\"Blues\")\n",
    "stats = model_diagnostic_stats(cm_matrix)\n",
    "print('Model Confusion Matrix Statistics:')\n",
    "for key,value in stats.items():\n",
    "    value_str = '%.4f' % value\n",
    "    print(\"\\n {}: {}\".format(key,value_str))\n"
   ]
  },
  {
   "cell_type": "markdown",
   "metadata": {
    "id": "OJpho-QJDkn9"
   },
   "source": [
    "<h2>Feature Importance Plot"
   ]
  },
  {
   "cell_type": "code",
   "execution_count": 33,
   "metadata": {
    "id": "iQEbrWb9Dkn9",
    "outputId": "4496292f-941a-4397-efd8-2e3139dbe2ff"
   },
   "outputs": [
    {
     "data": {
      "text/plain": "<Figure size 432x288 with 1 Axes>",
      "image/png": "[encoded data removed]"
     },
     "metadata": {
      "needs_background": "light"
     },
     "output_type": "display_data"
    }
   ],
   "source": [
    "feature_importances = tuned_clf.best_estimator_.feature_importances_\n",
    "column_var = X_train_df.columns.tolist()\n",
    "feature_imprt_df = pd.DataFrame({'Features':column_var, '% importance': feature_importances})\n",
    "formatted_vars_display = [ '%.3f' % elem for elem in feature_importances ]\n",
    "ax = sb.barplot(x='% importance', y='Features',data=feature_imprt_df)\n",
    "ax.set(xlabel='% importance', ylabel='Features')\n",
    "plt.show()\n"
   ]
  },
  {
   "cell_type": "code",
   "execution_count": 34,
   "outputs": [],
   "source": [
    "# Save the model"
   ],
   "metadata": {
    "collapsed": false
   }
  },
  {
   "cell_type": "code",
   "execution_count": 20,
   "outputs": [],
   "source": [
    "import pickle\n",
    "filename = 'xgboost_model.pkl'\n",
    "pickle.dump(tuned_clf, open(filename, 'wb'))"
   ],
   "metadata": {
    "collapsed": false
   }
  },
  {
   "cell_type": "code",
   "execution_count": 21,
   "outputs": [
    {
     "name": "stdout",
     "output_type": "stream",
     "text": [
      "/Users/antares/PycharmProjects/eth_fraud_ml/ETH-scam-ml/modded\r\n"
     ]
    }
   ],
   "source": [
    "!pwd"
   ],
   "metadata": {
    "collapsed": false
   }
  },
  {
   "cell_type": "code",
   "execution_count": null,
   "outputs": [],
   "source": [],
   "metadata": {
    "collapsed": false
   }
  }
 ],
 "metadata": {
  "accelerator": "GPU",
  "colab": {
   "provenance": []
  },
  "gpuClass": "standard",
  "kernelspec": {
   "display_name": "Python 3.10.6 64-bit",
   "language": "python",
   "name": "python3"
  },
  "language_info": {
   "codemirror_mode": {
    "name": "ipython",
    "version": 3
   },
   "file_extension": ".py",
   "mimetype": "text/x-python",
   "name": "python",
   "nbconvert_exporter": "python",
   "pygments_lexer": "ipython3",
   "version": "3.10.6"
  },
  "vscode": {
   "interpreter": {
    "hash": "aee8b7b246df8f9039afb4144a1f6fd8d2ca17a180786b69acc140d282b71a49"
   }
  }
 },
 "nbformat": 4,
 "nbformat_minor": 1
}
