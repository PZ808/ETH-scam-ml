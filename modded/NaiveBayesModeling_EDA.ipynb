{
 "cells": [
  {
   "cell_type": "code",
   "execution_count": 1,
   "metadata": {
    "colab": {
     "base_uri": "https://localhost:8080/"
    },
    "executionInfo": {
     "elapsed": 2972,
     "status": "ok",
     "timestamp": 1667801049468,
     "user": {
      "displayName": "Victor Wong",
      "userId": "11168613095769754614"
     },
     "user_tz": -480
    },
    "id": "gcWFu90jy0ob",
    "outputId": "8f72f25e-9fad-4af2-9ba4-ae1c06d2cc1a",
    "ExecuteTime": {
     "end_time": "2023-05-06T16:13:00.800464Z",
     "start_time": "2023-05-06T16:13:00.695157Z"
    }
   },
   "outputs": [],
   "source": [
    "import numpy as np\n",
    "import pandas as pd\n",
    "import os\n",
    "from sklearn.metrics import accuracy_score, f1_score\n",
    "from sklearn.naive_bayes import GaussianNB\n",
    "from sklearn.model_selection import train_test_split\n",
    "from sklearn.preprocessing import MinMaxScaler, StandardScaler, PowerTransformer\n",
    "from sklearn.compose import ColumnTransformer\n",
    "from sklearn.pipeline import Pipeline\n",
    "import matplotlib\n",
    "import matplotlib.pyplot as plt\n",
    "import seaborn as sns\n",
    "matplotlib.rcParams['figure.figsize'] = (11.0, 8.0)\n",
    "\n",
    "TT_SPLIT = 0.30\n",
    "RAND_STATE = 42"
   ]
  },
  {
   "cell_type": "code",
   "execution_count": 2,
   "metadata": {
    "colab": {
     "base_uri": "https://localhost:8080/",
     "height": 374
    },
    "executionInfo": {
     "elapsed": 481,
     "status": "ok",
     "timestamp": 1667800734057,
     "user": {
      "displayName": "Victor Wong",
      "userId": "11168613095769754614"
     },
     "user_tz": -480
    },
    "id": "9rdZ2Z2RzdcS",
    "outputId": "f1e03c05-ed88-4310-d342-4dd3254e4ddd",
    "ExecuteTime": {
     "end_time": "2023-05-06T16:13:01.099688Z",
     "start_time": "2023-05-06T16:13:01.074964Z"
    }
   },
   "outputs": [
    {
     "data": {
      "text/plain": "                                      address  avg_min_between_sent_txn  \\\n0  0x00009277775ac7d0d59eaad8fee3d10ac6c805e8                    844.26   \n1  0x0002b44ddb1476db43c868bd494422ee4c136fed                  12709.07   \n2  0x0002bda54cb772d040f779e88eb453cac0daa244                 246194.54   \n3  0x00038e6ba2fd5c09aedb96697c8d7b8fa6632e5e                  10219.60   \n4  0x00062d1dd1afb6fb02540ddad9cdebfe568e0d89                     36.61   \n\n   avg_min_between_received_txn  time_diff_between_first_and_last_mins  \\\n0                       1093.71                              704785.63   \n1                       2958.44                             1218216.73   \n2                       2434.02                              516729.30   \n3                      15785.09                              397555.90   \n4                      10707.77                              382472.42   \n\n   unique_received_from_addresses  min_val_received  max_val_received  \\\n0                              40          0.000000         45.806785   \n1                               5          0.000000          2.613269   \n2                              10          0.113119          1.165453   \n3                               7          0.000000        500.000000   \n4                               7          0.000000         12.802411   \n\n   min_val_sent  avg_val_sent  total_transactions_inc_cnts  \\\n0          0.00      1.200681                          810   \n1          0.00      0.032844                          102   \n2          0.05      1.794308                           12   \n3          0.00     70.001834                           34   \n4          0.00      0.022688                         4619   \n\n   total_ether_received  total_ether_balance  flag  \n0            586.466675          -279.224419     0  \n1              3.085478            -0.001819     0  \n2              3.589057             0.000441     0  \n3            895.399559          -854.646303     0  \n4             53.421897           -50.896986     0  ",
      "text/html": "<div>\n<style scoped>\n    .dataframe tbody tr th:only-of-type {\n        vertical-align: middle;\n    }\n\n    .dataframe tbody tr th {\n        vertical-align: top;\n    }\n\n    .dataframe thead th {\n        text-align: right;\n    }\n</style>\n<table border=\"1\" class=\"dataframe\">\n  <thead>\n    <tr style=\"text-align: right;\">\n      <th></th>\n      <th>address</th>\n      <th>avg_min_between_sent_txn</th>\n      <th>avg_min_between_received_txn</th>\n      <th>time_diff_between_first_and_last_mins</th>\n      <th>unique_received_from_addresses</th>\n      <th>min_val_received</th>\n      <th>max_val_received</th>\n      <th>min_val_sent</th>\n      <th>avg_val_sent</th>\n      <th>total_transactions_inc_cnts</th>\n      <th>total_ether_received</th>\n      <th>total_ether_balance</th>\n      <th>flag</th>\n    </tr>\n  </thead>\n  <tbody>\n    <tr>\n      <th>0</th>\n      <td>0x00009277775ac7d0d59eaad8fee3d10ac6c805e8</td>\n      <td>844.26</td>\n      <td>1093.71</td>\n      <td>704785.63</td>\n      <td>40</td>\n      <td>0.000000</td>\n      <td>45.806785</td>\n      <td>0.00</td>\n      <td>1.200681</td>\n      <td>810</td>\n      <td>586.466675</td>\n      <td>-279.224419</td>\n      <td>0</td>\n    </tr>\n    <tr>\n      <th>1</th>\n      <td>0x0002b44ddb1476db43c868bd494422ee4c136fed</td>\n      <td>12709.07</td>\n      <td>2958.44</td>\n      <td>1218216.73</td>\n      <td>5</td>\n      <td>0.000000</td>\n      <td>2.613269</td>\n      <td>0.00</td>\n      <td>0.032844</td>\n      <td>102</td>\n      <td>3.085478</td>\n      <td>-0.001819</td>\n      <td>0</td>\n    </tr>\n    <tr>\n      <th>2</th>\n      <td>0x0002bda54cb772d040f779e88eb453cac0daa244</td>\n      <td>246194.54</td>\n      <td>2434.02</td>\n      <td>516729.30</td>\n      <td>10</td>\n      <td>0.113119</td>\n      <td>1.165453</td>\n      <td>0.05</td>\n      <td>1.794308</td>\n      <td>12</td>\n      <td>3.589057</td>\n      <td>0.000441</td>\n      <td>0</td>\n    </tr>\n    <tr>\n      <th>3</th>\n      <td>0x00038e6ba2fd5c09aedb96697c8d7b8fa6632e5e</td>\n      <td>10219.60</td>\n      <td>15785.09</td>\n      <td>397555.90</td>\n      <td>7</td>\n      <td>0.000000</td>\n      <td>500.000000</td>\n      <td>0.00</td>\n      <td>70.001834</td>\n      <td>34</td>\n      <td>895.399559</td>\n      <td>-854.646303</td>\n      <td>0</td>\n    </tr>\n    <tr>\n      <th>4</th>\n      <td>0x00062d1dd1afb6fb02540ddad9cdebfe568e0d89</td>\n      <td>36.61</td>\n      <td>10707.77</td>\n      <td>382472.42</td>\n      <td>7</td>\n      <td>0.000000</td>\n      <td>12.802411</td>\n      <td>0.00</td>\n      <td>0.022688</td>\n      <td>4619</td>\n      <td>53.421897</td>\n      <td>-50.896986</td>\n      <td>0</td>\n    </tr>\n  </tbody>\n</table>\n</div>"
     },
     "execution_count": 2,
     "metadata": {},
     "output_type": "execute_result"
    }
   ],
   "source": [
    "os.chdir('../modded')\n",
    "df = pd.read_csv('data/eth_txn_unscaled_Vars_SQLformatted.csv')\n",
    "df.head()"
   ]
  },
  {
   "cell_type": "markdown",
   "source": [
    "X,y and Test/Train split"
   ],
   "metadata": {
    "collapsed": false
   }
  },
  {
   "cell_type": "code",
   "execution_count": 3,
   "metadata": {
    "colab": {
     "base_uri": "https://localhost:8080/",
     "height": 393
    },
    "executionInfo": {
     "elapsed": 439,
     "status": "ok",
     "timestamp": 1667802931839,
     "user": {
      "displayName": "Victor Wong",
      "userId": "11168613095769754614"
     },
     "user_tz": -480
    },
    "id": "pOHqNFinqgjb",
    "outputId": "d3802d86-33c3-4b70-822a-c6616d304d2f",
    "ExecuteTime": {
     "end_time": "2023-05-06T16:13:03.934993Z",
     "start_time": "2023-05-06T16:13:03.926615Z"
    }
   },
   "outputs": [],
   "source": [
    "X = df.drop(columns=['address', 'flag'])\n",
    "y = df['flag']\n",
    "\n",
    "X_train, X_test, y_train, y_test = train_test_split(X, y,\n",
    "                                                    test_size=TT_SPLIT,\n",
    "                                                    random_state=RAND_STATE,\n",
    "                                                    stratify=y)"
   ]
  },
  {
   "cell_type": "code",
   "execution_count": 4,
   "outputs": [
    {
     "data": {
      "text/plain": "       avg_min_between_sent_txn  avg_min_between_received_txn  \\\ncount               8956.000000                   8956.000000   \nmean                5377.734193                   8257.116958   \nstd                22150.285878                  23409.226655   \nmin                    0.000000                      0.000000   \n25%                    0.000000                      0.000000   \n50%                   21.510000                    753.375000   \n75%                  735.320000                   5868.422500   \nmax               430287.670000                 482175.490000   \n\n       time_diff_between_first_and_last_mins  unique_received_from_addresses  \\\ncount                           8.956000e+03                     8956.000000   \nmean                            2.341664e+05                       31.323135   \nstd                             3.308292e+05                      302.164717   \nmin                             0.000000e+00                        0.000000   \n25%                             3.211700e+02                        1.000000   \n50%                             6.911901e+04                        2.000000   \n75%                             3.224263e+05                        5.000000   \nmax                             1.954861e+06                     9999.000000   \n\n       min_val_received  max_val_received  min_val_sent  avg_val_sent  \\\ncount       8956.000000       8956.000000   8956.000000   8956.000000   \nmean          47.434221        572.762378      5.050094     48.402735   \nstd          337.230957      13635.334342    145.275464    249.179387   \nmin            0.000000          0.000000      0.000000      0.000000   \n25%            0.003000          1.018137      0.000000      0.148596   \n50%            0.100000          8.371735      0.056169      1.991071   \n75%            3.131381         78.433615      0.998974     27.885407   \nmax        10000.000000     800000.000000  12000.000000  12000.000000   \n\n       total_transactions_inc_cnts  total_ether_received  total_ether_balance  \ncount                  8956.000000          8.956000e+03         8.956000e+03  \nmean                    299.734703          1.276619e+04         1.617608e+03  \nstd                    1382.674241          3.817581e+05         2.541209e+05  \nmin                       0.000000          0.000000e+00        -1.560535e+07  \n25%                       4.000000          4.743209e+00         9.100000e-04  \n50%                      10.000000          4.142685e+01         1.988715e-03  \n75%                      66.000000          1.010000e+02         6.692350e-02  \nmax                   19995.000000          2.858159e+07         1.428864e+07  ",
      "text/html": "<div>\n<style scoped>\n    .dataframe tbody tr th:only-of-type {\n        vertical-align: middle;\n    }\n\n    .dataframe tbody tr th {\n        vertical-align: top;\n    }\n\n    .dataframe thead th {\n        text-align: right;\n    }\n</style>\n<table border=\"1\" class=\"dataframe\">\n  <thead>\n    <tr style=\"text-align: right;\">\n      <th></th>\n      <th>avg_min_between_sent_txn</th>\n      <th>avg_min_between_received_txn</th>\n      <th>time_diff_between_first_and_last_mins</th>\n      <th>unique_received_from_addresses</th>\n      <th>min_val_received</th>\n      <th>max_val_received</th>\n      <th>min_val_sent</th>\n      <th>avg_val_sent</th>\n      <th>total_transactions_inc_cnts</th>\n      <th>total_ether_received</th>\n      <th>total_ether_balance</th>\n    </tr>\n  </thead>\n  <tbody>\n    <tr>\n      <th>count</th>\n      <td>8956.000000</td>\n      <td>8956.000000</td>\n      <td>8.956000e+03</td>\n      <td>8956.000000</td>\n      <td>8956.000000</td>\n      <td>8956.000000</td>\n      <td>8956.000000</td>\n      <td>8956.000000</td>\n      <td>8956.000000</td>\n      <td>8.956000e+03</td>\n      <td>8.956000e+03</td>\n    </tr>\n    <tr>\n      <th>mean</th>\n      <td>5377.734193</td>\n      <td>8257.116958</td>\n      <td>2.341664e+05</td>\n      <td>31.323135</td>\n      <td>47.434221</td>\n      <td>572.762378</td>\n      <td>5.050094</td>\n      <td>48.402735</td>\n      <td>299.734703</td>\n      <td>1.276619e+04</td>\n      <td>1.617608e+03</td>\n    </tr>\n    <tr>\n      <th>std</th>\n      <td>22150.285878</td>\n      <td>23409.226655</td>\n      <td>3.308292e+05</td>\n      <td>302.164717</td>\n      <td>337.230957</td>\n      <td>13635.334342</td>\n      <td>145.275464</td>\n      <td>249.179387</td>\n      <td>1382.674241</td>\n      <td>3.817581e+05</td>\n      <td>2.541209e+05</td>\n    </tr>\n    <tr>\n      <th>min</th>\n      <td>0.000000</td>\n      <td>0.000000</td>\n      <td>0.000000e+00</td>\n      <td>0.000000</td>\n      <td>0.000000</td>\n      <td>0.000000</td>\n      <td>0.000000</td>\n      <td>0.000000</td>\n      <td>0.000000</td>\n      <td>0.000000e+00</td>\n      <td>-1.560535e+07</td>\n    </tr>\n    <tr>\n      <th>25%</th>\n      <td>0.000000</td>\n      <td>0.000000</td>\n      <td>3.211700e+02</td>\n      <td>1.000000</td>\n      <td>0.003000</td>\n      <td>1.018137</td>\n      <td>0.000000</td>\n      <td>0.148596</td>\n      <td>4.000000</td>\n      <td>4.743209e+00</td>\n      <td>9.100000e-04</td>\n    </tr>\n    <tr>\n      <th>50%</th>\n      <td>21.510000</td>\n      <td>753.375000</td>\n      <td>6.911901e+04</td>\n      <td>2.000000</td>\n      <td>0.100000</td>\n      <td>8.371735</td>\n      <td>0.056169</td>\n      <td>1.991071</td>\n      <td>10.000000</td>\n      <td>4.142685e+01</td>\n      <td>1.988715e-03</td>\n    </tr>\n    <tr>\n      <th>75%</th>\n      <td>735.320000</td>\n      <td>5868.422500</td>\n      <td>3.224263e+05</td>\n      <td>5.000000</td>\n      <td>3.131381</td>\n      <td>78.433615</td>\n      <td>0.998974</td>\n      <td>27.885407</td>\n      <td>66.000000</td>\n      <td>1.010000e+02</td>\n      <td>6.692350e-02</td>\n    </tr>\n    <tr>\n      <th>max</th>\n      <td>430287.670000</td>\n      <td>482175.490000</td>\n      <td>1.954861e+06</td>\n      <td>9999.000000</td>\n      <td>10000.000000</td>\n      <td>800000.000000</td>\n      <td>12000.000000</td>\n      <td>12000.000000</td>\n      <td>19995.000000</td>\n      <td>2.858159e+07</td>\n      <td>1.428864e+07</td>\n    </tr>\n  </tbody>\n</table>\n</div>"
     },
     "execution_count": 4,
     "metadata": {},
     "output_type": "execute_result"
    }
   ],
   "source": [
    "X.describe()"
   ],
   "metadata": {
    "collapsed": false,
    "ExecuteTime": {
     "end_time": "2023-05-06T16:13:09.916815Z",
     "start_time": "2023-05-06T16:13:09.889320Z"
    }
   }
  },
  {
   "cell_type": "markdown",
   "source": [
    "Transforming the features"
   ],
   "metadata": {
    "collapsed": false
   }
  },
  {
   "cell_type": "code",
   "execution_count": 5,
   "outputs": [],
   "source": [
    "# log on both train and test data\n",
    "scaler = MinMaxScaler()\n",
    "wash_log = False\n",
    "\n",
    "if wash_log:\n",
    "    for c in X_train.columns:\n",
    "        X_train[c] = X_train[c].apply(lambda x: np.log(x) if x > 0 else 0)\n",
    "        X_test[c] = X_test[c].apply(lambda x: np.log(x) if x > 0 else 0)\n",
    "\n",
    "    X_train = scaler.fit_transform(X_train)\n",
    "    X_test = scaler.transform(X_test)\n",
    "\n",
    "else:\n",
    "    pt = PowerTransformer().fit(X_train)\n",
    "    # set up the transformer to power transform all float64 columns and scale all columns\n",
    "    scaler.fit(X_train)\n",
    "\n",
    "    X_train = pd.DataFrame(pt.transform(X_train), columns=X_train.columns)\n",
    "    X_test = pd.DataFrame(pt.transform(X_test), columns=X_test.columns)\n"
   ],
   "metadata": {
    "collapsed": false,
    "ExecuteTime": {
     "end_time": "2023-05-06T16:13:15.624750Z",
     "start_time": "2023-05-06T16:13:15.529573Z"
    }
   }
  },
  {
   "cell_type": "code",
   "execution_count": 23,
   "outputs": [],
   "source": [
    "X_train = scaler.transform(X_train)\n",
    "X_test = scaler.transform(X_test)"
   ],
   "metadata": {
    "collapsed": false,
    "ExecuteTime": {
     "end_time": "2023-05-06T16:06:08.290435Z",
     "start_time": "2023-05-06T16:06:08.283705Z"
    }
   }
  },
  {
   "cell_type": "code",
   "execution_count": 6,
   "outputs": [
    {
     "data": {
      "text/plain": "avg_min_between_sent_txn                 0.184574\navg_min_between_received_txn            -0.070381\ntime_diff_between_first_and_last_mins   -0.272236\nunique_received_from_addresses           0.076155\nmin_val_received                         0.861555\nmax_val_received                         0.141929\nmin_val_sent                             0.796327\navg_val_sent                             0.281685\ntotal_transactions_inc_cnts              0.130139\ntotal_ether_received                     0.024192\ntotal_ether_balance                     -4.134557\ndtype: float64"
     },
     "execution_count": 6,
     "metadata": {},
     "output_type": "execute_result"
    }
   ],
   "source": [
    "# get all the columns in X_train having skew more than 10\n",
    "skew_features = X_train[X_train.select_dtypes(include=['float64']).columns].skew(axis = 0, skipna = True)\n",
    "skew_features"
   ],
   "metadata": {
    "collapsed": false,
    "ExecuteTime": {
     "end_time": "2023-05-06T16:13:20.997041Z",
     "start_time": "2023-05-06T16:13:20.989647Z"
    }
   }
  },
  {
   "cell_type": "code",
   "execution_count": 7,
   "outputs": [],
   "source": [
    "skew_features_idx = skew_features[np.abs(skew_features) > .5].index"
   ],
   "metadata": {
    "collapsed": false,
    "ExecuteTime": {
     "end_time": "2023-05-06T16:14:32.725260Z",
     "start_time": "2023-05-06T16:14:32.720388Z"
    }
   }
  },
  {
   "cell_type": "code",
   "execution_count": 8,
   "outputs": [
    {
     "data": {
      "text/plain": "Index(['min_val_received', 'min_val_sent', 'total_ether_balance'], dtype='object')"
     },
     "execution_count": 8,
     "metadata": {},
     "output_type": "execute_result"
    }
   ],
   "source": [
    "skew_features_idx"
   ],
   "metadata": {
    "collapsed": false,
    "ExecuteTime": {
     "end_time": "2023-05-06T16:14:34.472275Z",
     "start_time": "2023-05-06T16:14:34.468110Z"
    }
   }
  },
  {
   "cell_type": "code",
   "execution_count": 9,
   "outputs": [],
   "source": [
    "X_train[skew_features_idx] = pt.fit_transform(X_train[skew_features_idx])\n",
    "X_test[skew_features_idx] = pt.transform(X_test[skew_features_idx])"
   ],
   "metadata": {
    "collapsed": false,
    "ExecuteTime": {
     "end_time": "2023-05-06T16:14:46.832199Z",
     "start_time": "2023-05-06T16:14:46.806644Z"
    }
   }
  },
  {
   "cell_type": "code",
   "execution_count": 12,
   "metadata": {
    "colab": {
     "base_uri": "https://localhost:8080/"
    },
    "executionInfo": {
     "elapsed": 510,
     "status": "ok",
     "timestamp": 1667802947574,
     "user": {
      "displayName": "Victor Wong",
      "userId": "11168613095769754614"
     },
     "user_tz": -480
    },
    "id": "VLErsnAxquRl",
    "outputId": "2a953573-d3aa-4994-89cb-9bed79097e95",
    "ExecuteTime": {
     "end_time": "2023-05-06T16:15:30.297071Z",
     "start_time": "2023-05-06T16:15:30.291105Z"
    }
   },
   "outputs": [
    {
     "data": {
      "text/plain": "avg_min_between_sent_txn                 0.184574\navg_min_between_received_txn            -0.070381\ntime_diff_between_first_and_last_mins   -0.272236\nunique_received_from_addresses           0.076155\nmin_val_received                         0.466202\nmax_val_received                         0.141929\nmin_val_sent                             0.416169\navg_val_sent                             0.281685\ntotal_transactions_inc_cnts              0.130139\ntotal_ether_received                     0.024192\ntotal_ether_balance                     -1.286904\ndtype: float64"
     },
     "execution_count": 12,
     "metadata": {},
     "output_type": "execute_result"
    }
   ],
   "source": [
    "skew_features = X_train[X_train.select_dtypes(include=['float64']).columns].skew(axis = 0, skipna = True)\n",
    "skew_features"
   ]
  },
  {
   "cell_type": "code",
   "execution_count": 13,
   "metadata": {
    "colab": {
     "base_uri": "https://localhost:8080/"
    },
    "executionInfo": {
     "elapsed": 300,
     "status": "ok",
     "timestamp": 1667802948387,
     "user": {
      "displayName": "Victor Wong",
      "userId": "11168613095769754614"
     },
     "user_tz": -480
    },
    "id": "DPmwtNlRrR6Z",
    "outputId": "523e3962-ef38-4ee2-c232-5f0bbf26e4b2",
    "ExecuteTime": {
     "end_time": "2023-05-06T16:15:37.656033Z",
     "start_time": "2023-05-06T16:15:37.648231Z"
    }
   },
   "outputs": [
    {
     "name": "stdout",
     "output_type": "stream",
     "text": [
      "Accuracy Score:  0.502046892445106\n",
      "F1 Score:  0.3694627709707823\n"
     ]
    }
   ],
   "source": [
    "###Creating Naive Bayes Classifier Model\n",
    "GNB = GaussianNB(var_smoothing=2e-9)\n",
    "GNB.fit(X_train,y_train)\n",
    "y_pr = GNB.predict(X_test)\n",
    "print('Accuracy Score: ', accuracy_score(y_test, y_pr))\n",
    "print('F1 Score: ', f1_score(y_test, y_pr))"
   ]
  },
  {
   "cell_type": "code",
   "execution_count": 14,
   "metadata": {
    "id": "VeXEwH1bve81",
    "ExecuteTime": {
     "end_time": "2023-05-06T16:15:49.724300Z",
     "start_time": "2023-05-06T16:15:49.718886Z"
    }
   },
   "outputs": [],
   "source": [
    "### Doing Grid Search to find best hyperparameters\n",
    "from sklearn.model_selection import GridSearchCV\n",
    "\n",
    "param_grid_nb = {\n",
    "    'var_smoothing': np.logspace(0, -9, num=100),\n",
    "}\n",
    "\n",
    "grid_search_nb = GridSearchCV(estimator=GaussianNB(), param_grid=param_grid_nb, verbose=2, cv=5, scoring='f1')"
   ]
  },
  {
   "cell_type": "code",
   "execution_count": 15,
   "metadata": {
    "colab": {
     "base_uri": "https://localhost:8080/"
    },
    "executionInfo": {
     "elapsed": 4073,
     "status": "ok",
     "timestamp": 1667802956164,
     "user": {
      "displayName": "Victor Wong",
      "userId": "11168613095769754614"
     },
     "user_tz": -480
    },
    "id": "BJYPw6SQwOIt",
    "outputId": "d05a0d30-e52a-4302-8295-979a21c61192",
    "ExecuteTime": {
     "end_time": "2023-05-06T16:15:51.939977Z",
     "start_time": "2023-05-06T16:15:50.899375Z"
    }
   },
   "outputs": [
    {
     "name": "stdout",
     "output_type": "stream",
     "text": [
      "Fitting 5 folds for each of 100 candidates, totalling 500 fits\n",
      "[CV] END ..................................var_smoothing=1.0; total time=   0.0s\n",
      "[CV] END ..................................var_smoothing=1.0; total time=   0.0s\n",
      "[CV] END ..................................var_smoothing=1.0; total time=   0.0s\n",
      "[CV] END ..................................var_smoothing=1.0; total time=   0.0s\n",
      "[CV] END ..................................var_smoothing=1.0; total time=   0.0s\n",
      "[CV] END ...................var_smoothing=0.8111308307896871; total time=   0.0s\n",
      "[CV] END ...................var_smoothing=0.8111308307896871; total time=   0.0s\n",
      "[CV] END ...................var_smoothing=0.8111308307896871; total time=   0.0s\n",
      "[CV] END ...................var_smoothing=0.8111308307896871; total time=   0.0s\n",
      "[CV] END ...................var_smoothing=0.8111308307896871; total time=   0.0s\n",
      "[CV] END ....................var_smoothing=0.657933224657568; total time=   0.0s\n",
      "[CV] END ....................var_smoothing=0.657933224657568; total time=   0.0s\n",
      "[CV] END ....................var_smoothing=0.657933224657568; total time=   0.0s\n",
      "[CV] END ....................var_smoothing=0.657933224657568; total time=   0.0s\n",
      "[CV] END ....................var_smoothing=0.657933224657568; total time=   0.0s\n",
      "[CV] END ....................var_smoothing=0.533669923120631; total time=   0.0s\n",
      "[CV] END ....................var_smoothing=0.533669923120631; total time=   0.0s\n",
      "[CV] END ....................var_smoothing=0.533669923120631; total time=   0.0s\n",
      "[CV] END ....................var_smoothing=0.533669923120631; total time=   0.0s\n",
      "[CV] END ....................var_smoothing=0.533669923120631; total time=   0.0s\n",
      "[CV] END ..................var_smoothing=0.43287612810830584; total time=   0.0s\n",
      "[CV] END ..................var_smoothing=0.43287612810830584; total time=   0.0s\n",
      "[CV] END ..................var_smoothing=0.43287612810830584; total time=   0.0s\n",
      "[CV] END ..................var_smoothing=0.43287612810830584; total time=   0.0s\n",
      "[CV] END ..................var_smoothing=0.43287612810830584; total time=   0.0s\n",
      "[CV] END ...................var_smoothing=0.3511191734215131; total time=   0.0s\n",
      "[CV] END ...................var_smoothing=0.3511191734215131; total time=   0.0s\n",
      "[CV] END ...................var_smoothing=0.3511191734215131; total time=   0.0s\n",
      "[CV] END ...................var_smoothing=0.3511191734215131; total time=   0.0s\n",
      "[CV] END ...................var_smoothing=0.3511191734215131; total time=   0.0s\n",
      "[CV] END ...................var_smoothing=0.2848035868435802; total time=   0.0s\n",
      "[CV] END ...................var_smoothing=0.2848035868435802; total time=   0.0s\n",
      "[CV] END ...................var_smoothing=0.2848035868435802; total time=   0.0s\n",
      "[CV] END ...................var_smoothing=0.2848035868435802; total time=   0.0s\n",
      "[CV] END ...................var_smoothing=0.2848035868435802; total time=   0.0s\n",
      "[CV] END ..................var_smoothing=0.23101297000831597; total time=   0.0s\n",
      "[CV] END ..................var_smoothing=0.23101297000831597; total time=   0.0s\n",
      "[CV] END ..................var_smoothing=0.23101297000831597; total time=   0.0s\n",
      "[CV] END ..................var_smoothing=0.23101297000831597; total time=   0.0s\n",
      "[CV] END ..................var_smoothing=0.23101297000831597; total time=   0.0s\n",
      "[CV] END ...................var_smoothing=0.1873817422860384; total time=   0.0s\n",
      "[CV] END ...................var_smoothing=0.1873817422860384; total time=   0.0s\n",
      "[CV] END ...................var_smoothing=0.1873817422860384; total time=   0.0s\n",
      "[CV] END ...................var_smoothing=0.1873817422860384; total time=   0.0s\n",
      "[CV] END ...................var_smoothing=0.1873817422860384; total time=   0.0s\n",
      "[CV] END ..................var_smoothing=0.15199110829529336; total time=   0.0s\n",
      "[CV] END ..................var_smoothing=0.15199110829529336; total time=   0.0s\n",
      "[CV] END ..................var_smoothing=0.15199110829529336; total time=   0.0s\n",
      "[CV] END ..................var_smoothing=0.15199110829529336; total time=   0.0s\n",
      "[CV] END ..................var_smoothing=0.15199110829529336; total time=   0.0s\n",
      "[CV] END ..................var_smoothing=0.12328467394420659; total time=   0.0s\n",
      "[CV] END ..................var_smoothing=0.12328467394420659; total time=   0.0s\n",
      "[CV] END ..................var_smoothing=0.12328467394420659; total time=   0.0s\n",
      "[CV] END ..................var_smoothing=0.12328467394420659; total time=   0.0s\n",
      "[CV] END ..................var_smoothing=0.12328467394420659; total time=   0.0s\n",
      "[CV] END ..................................var_smoothing=0.1; total time=   0.0s\n",
      "[CV] END ..................................var_smoothing=0.1; total time=   0.0s\n",
      "[CV] END ..................................var_smoothing=0.1; total time=   0.0s\n",
      "[CV] END ..................................var_smoothing=0.1; total time=   0.0s\n",
      "[CV] END ..................................var_smoothing=0.1; total time=   0.0s\n",
      "[CV] END ..................var_smoothing=0.08111308307896872; total time=   0.0s\n",
      "[CV] END ..................var_smoothing=0.08111308307896872; total time=   0.0s\n",
      "[CV] END ..................var_smoothing=0.08111308307896872; total time=   0.0s\n",
      "[CV] END ..................var_smoothing=0.08111308307896872; total time=   0.0s\n",
      "[CV] END ..................var_smoothing=0.08111308307896872; total time=   0.0s\n",
      "[CV] END ...................var_smoothing=0.0657933224657568; total time=   0.0s\n",
      "[CV] END ...................var_smoothing=0.0657933224657568; total time=   0.0s\n",
      "[CV] END ...................var_smoothing=0.0657933224657568; total time=   0.0s\n",
      "[CV] END ...................var_smoothing=0.0657933224657568; total time=   0.0s\n",
      "[CV] END ...................var_smoothing=0.0657933224657568; total time=   0.0s\n",
      "[CV] END ...................var_smoothing=0.0533669923120631; total time=   0.0s\n",
      "[CV] END ...................var_smoothing=0.0533669923120631; total time=   0.0s\n",
      "[CV] END ...................var_smoothing=0.0533669923120631; total time=   0.0s\n",
      "[CV] END ...................var_smoothing=0.0533669923120631; total time=   0.0s\n",
      "[CV] END ...................var_smoothing=0.0533669923120631; total time=   0.0s\n",
      "[CV] END ..................var_smoothing=0.04328761281083057; total time=   0.0s\n",
      "[CV] END ..................var_smoothing=0.04328761281083057; total time=   0.0s\n",
      "[CV] END ..................var_smoothing=0.04328761281083057; total time=   0.0s\n",
      "[CV] END ..................var_smoothing=0.04328761281083057; total time=   0.0s\n",
      "[CV] END ..................var_smoothing=0.04328761281083057; total time=   0.0s\n",
      "[CV] END ..................var_smoothing=0.03511191734215131; total time=   0.0s\n",
      "[CV] END ..................var_smoothing=0.03511191734215131; total time=   0.0s\n",
      "[CV] END ..................var_smoothing=0.03511191734215131; total time=   0.0s\n",
      "[CV] END ..................var_smoothing=0.03511191734215131; total time=   0.0s\n",
      "[CV] END ..................var_smoothing=0.03511191734215131; total time=   0.0s\n",
      "[CV] END ..................var_smoothing=0.02848035868435802; total time=   0.0s\n",
      "[CV] END ..................var_smoothing=0.02848035868435802; total time=   0.0s\n",
      "[CV] END ..................var_smoothing=0.02848035868435802; total time=   0.0s\n",
      "[CV] END ..................var_smoothing=0.02848035868435802; total time=   0.0s\n",
      "[CV] END ..................var_smoothing=0.02848035868435802; total time=   0.0s\n",
      "[CV] END ..................var_smoothing=0.02310129700083159; total time=   0.0s\n",
      "[CV] END ..................var_smoothing=0.02310129700083159; total time=   0.0s\n",
      "[CV] END ..................var_smoothing=0.02310129700083159; total time=   0.0s\n",
      "[CV] END ..................var_smoothing=0.02310129700083159; total time=   0.0s\n",
      "[CV] END ..................var_smoothing=0.02310129700083159; total time=   0.0s\n",
      "[CV] END ..................var_smoothing=0.01873817422860384; total time=   0.0s\n",
      "[CV] END ..................var_smoothing=0.01873817422860384; total time=   0.0s\n",
      "[CV] END ..................var_smoothing=0.01873817422860384; total time=   0.0s\n",
      "[CV] END ..................var_smoothing=0.01873817422860384; total time=   0.0s\n",
      "[CV] END ..................var_smoothing=0.01873817422860384; total time=   0.0s\n",
      "[CV] END ..................var_smoothing=0.01519911082952933; total time=   0.0s\n",
      "[CV] END ..................var_smoothing=0.01519911082952933; total time=   0.0s\n",
      "[CV] END ..................var_smoothing=0.01519911082952933; total time=   0.0s\n",
      "[CV] END ..................var_smoothing=0.01519911082952933; total time=   0.0s\n",
      "[CV] END ..................var_smoothing=0.01519911082952933; total time=   0.0s\n",
      "[CV] END .................var_smoothing=0.012328467394420659; total time=   0.0s\n",
      "[CV] END .................var_smoothing=0.012328467394420659; total time=   0.0s\n",
      "[CV] END .................var_smoothing=0.012328467394420659; total time=   0.0s\n",
      "[CV] END .................var_smoothing=0.012328467394420659; total time=   0.0s\n",
      "[CV] END .................var_smoothing=0.012328467394420659; total time=   0.0s\n",
      "[CV] END .................................var_smoothing=0.01; total time=   0.0s\n",
      "[CV] END .................................var_smoothing=0.01; total time=   0.0s\n",
      "[CV] END .................................var_smoothing=0.01; total time=   0.0s\n",
      "[CV] END .................................var_smoothing=0.01; total time=   0.0s\n",
      "[CV] END .................................var_smoothing=0.01; total time=   0.0s\n",
      "[CV] END .................var_smoothing=0.008111308307896872; total time=   0.0s\n",
      "[CV] END .................var_smoothing=0.008111308307896872; total time=   0.0s\n",
      "[CV] END .................var_smoothing=0.008111308307896872; total time=   0.0s\n",
      "[CV] END .................var_smoothing=0.008111308307896872; total time=   0.0s\n",
      "[CV] END .................var_smoothing=0.008111308307896872; total time=   0.0s\n",
      "[CV] END .................var_smoothing=0.006579332246575682; total time=   0.0s\n",
      "[CV] END .................var_smoothing=0.006579332246575682; total time=   0.0s\n",
      "[CV] END .................var_smoothing=0.006579332246575682; total time=   0.0s\n",
      "[CV] END .................var_smoothing=0.006579332246575682; total time=   0.0s\n",
      "[CV] END .................var_smoothing=0.006579332246575682; total time=   0.0s\n",
      "[CV] END .................var_smoothing=0.005336699231206307; total time=   0.0s\n",
      "[CV] END .................var_smoothing=0.005336699231206307; total time=   0.0s\n",
      "[CV] END .................var_smoothing=0.005336699231206307; total time=   0.0s\n",
      "[CV] END .................var_smoothing=0.005336699231206307; total time=   0.0s\n",
      "[CV] END .................var_smoothing=0.005336699231206307; total time=   0.0s\n",
      "[CV] END .................var_smoothing=0.004328761281083057; total time=   0.0s\n",
      "[CV] END .................var_smoothing=0.004328761281083057; total time=   0.0s\n",
      "[CV] END .................var_smoothing=0.004328761281083057; total time=   0.0s\n",
      "[CV] END .................var_smoothing=0.004328761281083057; total time=   0.0s\n",
      "[CV] END .................var_smoothing=0.004328761281083057; total time=   0.0s\n",
      "[CV] END .................var_smoothing=0.003511191734215131; total time=   0.0s\n",
      "[CV] END .................var_smoothing=0.003511191734215131; total time=   0.0s\n",
      "[CV] END .................var_smoothing=0.003511191734215131; total time=   0.0s\n",
      "[CV] END .................var_smoothing=0.003511191734215131; total time=   0.0s\n",
      "[CV] END .................var_smoothing=0.003511191734215131; total time=   0.0s\n",
      "[CV] END .................var_smoothing=0.002848035868435802; total time=   0.0s\n",
      "[CV] END .................var_smoothing=0.002848035868435802; total time=   0.0s\n",
      "[CV] END .................var_smoothing=0.002848035868435802; total time=   0.0s\n",
      "[CV] END .................var_smoothing=0.002848035868435802; total time=   0.0s\n",
      "[CV] END .................var_smoothing=0.002848035868435802; total time=   0.0s\n",
      "[CV] END ................var_smoothing=0.0023101297000831605; total time=   0.0s\n",
      "[CV] END ................var_smoothing=0.0023101297000831605; total time=   0.0s\n",
      "[CV] END ................var_smoothing=0.0023101297000831605; total time=   0.0s\n",
      "[CV] END ................var_smoothing=0.0023101297000831605; total time=   0.0s\n",
      "[CV] END ................var_smoothing=0.0023101297000831605; total time=   0.0s\n",
      "[CV] END .................var_smoothing=0.001873817422860383; total time=   0.0s\n",
      "[CV] END .................var_smoothing=0.001873817422860383; total time=   0.0s\n",
      "[CV] END .................var_smoothing=0.001873817422860383; total time=   0.0s\n",
      "[CV] END .................var_smoothing=0.001873817422860383; total time=   0.0s\n",
      "[CV] END .................var_smoothing=0.001873817422860383; total time=   0.0s\n",
      "[CV] END ................var_smoothing=0.0015199110829529332; total time=   0.0s\n",
      "[CV] END ................var_smoothing=0.0015199110829529332; total time=   0.0s\n",
      "[CV] END ................var_smoothing=0.0015199110829529332; total time=   0.0s\n",
      "[CV] END ................var_smoothing=0.0015199110829529332; total time=   0.0s\n",
      "[CV] END ................var_smoothing=0.0015199110829529332; total time=   0.0s\n",
      "[CV] END ................var_smoothing=0.0012328467394420659; total time=   0.0s\n",
      "[CV] END ................var_smoothing=0.0012328467394420659; total time=   0.0s\n",
      "[CV] END ................var_smoothing=0.0012328467394420659; total time=   0.0s\n",
      "[CV] END ................var_smoothing=0.0012328467394420659; total time=   0.0s\n",
      "[CV] END ................var_smoothing=0.0012328467394420659; total time=   0.0s\n",
      "[CV] END ................................var_smoothing=0.001; total time=   0.0s\n",
      "[CV] END ................................var_smoothing=0.001; total time=   0.0s\n",
      "[CV] END ................................var_smoothing=0.001; total time=   0.0s\n",
      "[CV] END ................................var_smoothing=0.001; total time=   0.0s\n",
      "[CV] END ................................var_smoothing=0.001; total time=   0.0s\n",
      "[CV] END ................var_smoothing=0.0008111308307896872; total time=   0.0s\n",
      "[CV] END ................var_smoothing=0.0008111308307896872; total time=   0.0s\n",
      "[CV] END ................var_smoothing=0.0008111308307896872; total time=   0.0s\n",
      "[CV] END ................var_smoothing=0.0008111308307896872; total time=   0.0s\n",
      "[CV] END ................var_smoothing=0.0008111308307896872; total time=   0.0s\n",
      "[CV] END ................var_smoothing=0.0006579332246575676; total time=   0.0s\n",
      "[CV] END ................var_smoothing=0.0006579332246575676; total time=   0.0s\n",
      "[CV] END ................var_smoothing=0.0006579332246575676; total time=   0.0s\n",
      "[CV] END ................var_smoothing=0.0006579332246575676; total time=   0.0s\n",
      "[CV] END ................var_smoothing=0.0006579332246575676; total time=   0.0s\n",
      "[CV] END ................var_smoothing=0.0005336699231206307; total time=   0.0s\n",
      "[CV] END ................var_smoothing=0.0005336699231206307; total time=   0.0s\n",
      "[CV] END ................var_smoothing=0.0005336699231206307; total time=   0.0s\n",
      "[CV] END ................var_smoothing=0.0005336699231206307; total time=   0.0s\n",
      "[CV] END ................var_smoothing=0.0005336699231206307; total time=   0.0s\n",
      "[CV] END ................var_smoothing=0.0004328761281083057; total time=   0.0s\n",
      "[CV] END ................var_smoothing=0.0004328761281083057; total time=   0.0s\n",
      "[CV] END ................var_smoothing=0.0004328761281083057; total time=   0.0s\n",
      "[CV] END ................var_smoothing=0.0004328761281083057; total time=   0.0s\n",
      "[CV] END ................var_smoothing=0.0004328761281083057; total time=   0.0s\n",
      "[CV] END ................var_smoothing=0.0003511191734215131; total time=   0.0s\n",
      "[CV] END ................var_smoothing=0.0003511191734215131; total time=   0.0s\n",
      "[CV] END ................var_smoothing=0.0003511191734215131; total time=   0.0s\n",
      "[CV] END ................var_smoothing=0.0003511191734215131; total time=   0.0s\n",
      "[CV] END ................var_smoothing=0.0003511191734215131; total time=   0.0s\n",
      "[CV] END ................var_smoothing=0.0002848035868435802; total time=   0.0s\n",
      "[CV] END ................var_smoothing=0.0002848035868435802; total time=   0.0s\n",
      "[CV] END ................var_smoothing=0.0002848035868435802; total time=   0.0s\n",
      "[CV] END ................var_smoothing=0.0002848035868435802; total time=   0.0s\n",
      "[CV] END ................var_smoothing=0.0002848035868435802; total time=   0.0s\n",
      "[CV] END ................var_smoothing=0.0002310129700083158; total time=   0.0s\n",
      "[CV] END ................var_smoothing=0.0002310129700083158; total time=   0.0s\n",
      "[CV] END ................var_smoothing=0.0002310129700083158; total time=   0.0s\n",
      "[CV] END ................var_smoothing=0.0002310129700083158; total time=   0.0s\n",
      "[CV] END ................var_smoothing=0.0002310129700083158; total time=   0.0s\n",
      "[CV] END ................var_smoothing=0.0001873817422860383; total time=   0.0s\n",
      "[CV] END ................var_smoothing=0.0001873817422860383; total time=   0.0s\n",
      "[CV] END ................var_smoothing=0.0001873817422860383; total time=   0.0s\n",
      "[CV] END ................var_smoothing=0.0001873817422860383; total time=   0.0s\n",
      "[CV] END ................var_smoothing=0.0001873817422860383; total time=   0.0s\n",
      "[CV] END ................var_smoothing=0.0001519911082952933; total time=   0.0s\n",
      "[CV] END ................var_smoothing=0.0001519911082952933; total time=   0.0s\n",
      "[CV] END ................var_smoothing=0.0001519911082952933; total time=   0.0s\n",
      "[CV] END ................var_smoothing=0.0001519911082952933; total time=   0.0s\n",
      "[CV] END ................var_smoothing=0.0001519911082952933; total time=   0.0s\n",
      "[CV] END ................var_smoothing=0.0001232846739442066; total time=   0.0s\n",
      "[CV] END ................var_smoothing=0.0001232846739442066; total time=   0.0s\n",
      "[CV] END ................var_smoothing=0.0001232846739442066; total time=   0.0s\n",
      "[CV] END ................var_smoothing=0.0001232846739442066; total time=   0.0s\n",
      "[CV] END ................var_smoothing=0.0001232846739442066; total time=   0.0s\n",
      "[CV] END ...............................var_smoothing=0.0001; total time=   0.0s\n",
      "[CV] END ...............................var_smoothing=0.0001; total time=   0.0s\n",
      "[CV] END ...............................var_smoothing=0.0001; total time=   0.0s\n",
      "[CV] END ...............................var_smoothing=0.0001; total time=   0.0s\n",
      "[CV] END ...............................var_smoothing=0.0001; total time=   0.0s\n",
      "[CV] END ................var_smoothing=8.111308307896872e-05; total time=   0.0s\n",
      "[CV] END ................var_smoothing=8.111308307896872e-05; total time=   0.0s\n",
      "[CV] END ................var_smoothing=8.111308307896872e-05; total time=   0.0s\n",
      "[CV] END ................var_smoothing=8.111308307896872e-05; total time=   0.0s\n",
      "[CV] END ................var_smoothing=8.111308307896872e-05; total time=   0.0s\n",
      "[CV] END ................var_smoothing=6.579332246575683e-05; total time=   0.0s\n",
      "[CV] END ................var_smoothing=6.579332246575683e-05; total time=   0.0s\n",
      "[CV] END ................var_smoothing=6.579332246575683e-05; total time=   0.0s\n",
      "[CV] END ................var_smoothing=6.579332246575683e-05; total time=   0.0s\n",
      "[CV] END ................var_smoothing=6.579332246575683e-05; total time=   0.0s\n",
      "[CV] END ...............var_smoothing=5.3366992312063123e-05; total time=   0.0s\n",
      "[CV] END ...............var_smoothing=5.3366992312063123e-05; total time=   0.0s\n",
      "[CV] END ...............var_smoothing=5.3366992312063123e-05; total time=   0.0s\n",
      "[CV] END ...............var_smoothing=5.3366992312063123e-05; total time=   0.0s\n",
      "[CV] END ...............var_smoothing=5.3366992312063123e-05; total time=   0.0s\n",
      "[CV] END ................var_smoothing=4.328761281083062e-05; total time=   0.0s\n",
      "[CV] END ................var_smoothing=4.328761281083062e-05; total time=   0.0s\n",
      "[CV] END ................var_smoothing=4.328761281083062e-05; total time=   0.0s\n",
      "[CV] END ................var_smoothing=4.328761281083062e-05; total time=   0.0s\n",
      "[CV] END ................var_smoothing=4.328761281083062e-05; total time=   0.0s\n",
      "[CV] END ................var_smoothing=3.511191734215127e-05; total time=   0.0s\n",
      "[CV] END ................var_smoothing=3.511191734215127e-05; total time=   0.0s\n",
      "[CV] END ................var_smoothing=3.511191734215127e-05; total time=   0.0s\n",
      "[CV] END ................var_smoothing=3.511191734215127e-05; total time=   0.0s\n",
      "[CV] END ................var_smoothing=3.511191734215127e-05; total time=   0.0s\n",
      "[CV] END ................var_smoothing=2.848035868435799e-05; total time=   0.0s\n",
      "[CV] END ................var_smoothing=2.848035868435799e-05; total time=   0.0s\n",
      "[CV] END ................var_smoothing=2.848035868435799e-05; total time=   0.0s\n",
      "[CV] END ................var_smoothing=2.848035868435799e-05; total time=   0.0s\n",
      "[CV] END ................var_smoothing=2.848035868435799e-05; total time=   0.0s\n",
      "[CV] END ................var_smoothing=2.310129700083158e-05; total time=   0.0s\n",
      "[CV] END ................var_smoothing=2.310129700083158e-05; total time=   0.0s\n",
      "[CV] END ................var_smoothing=2.310129700083158e-05; total time=   0.0s\n",
      "[CV] END ................var_smoothing=2.310129700083158e-05; total time=   0.0s\n",
      "[CV] END ................var_smoothing=2.310129700083158e-05; total time=   0.0s\n",
      "[CV] END ................var_smoothing=1.873817422860383e-05; total time=   0.0s\n",
      "[CV] END ................var_smoothing=1.873817422860383e-05; total time=   0.0s\n",
      "[CV] END ................var_smoothing=1.873817422860383e-05; total time=   0.0s\n",
      "[CV] END ................var_smoothing=1.873817422860383e-05; total time=   0.0s\n",
      "[CV] END ................var_smoothing=1.873817422860383e-05; total time=   0.0s\n",
      "[CV] END ...............var_smoothing=1.5199110829529332e-05; total time=   0.0s\n",
      "[CV] END ...............var_smoothing=1.5199110829529332e-05; total time=   0.0s\n",
      "[CV] END ...............var_smoothing=1.5199110829529332e-05; total time=   0.0s\n",
      "[CV] END ...............var_smoothing=1.5199110829529332e-05; total time=   0.0s\n",
      "[CV] END ...............var_smoothing=1.5199110829529332e-05; total time=   0.0s\n",
      "[CV] END ...............var_smoothing=1.2328467394420658e-05; total time=   0.0s\n",
      "[CV] END ...............var_smoothing=1.2328467394420658e-05; total time=   0.0s\n",
      "[CV] END ...............var_smoothing=1.2328467394420658e-05; total time=   0.0s\n",
      "[CV] END ...............var_smoothing=1.2328467394420658e-05; total time=   0.0s\n",
      "[CV] END ...............var_smoothing=1.2328467394420658e-05; total time=   0.0s\n",
      "[CV] END ................................var_smoothing=1e-05; total time=   0.0s\n",
      "[CV] END ................................var_smoothing=1e-05; total time=   0.0s\n",
      "[CV] END ................................var_smoothing=1e-05; total time=   0.0s\n",
      "[CV] END ................................var_smoothing=1e-05; total time=   0.0s\n",
      "[CV] END ................................var_smoothing=1e-05; total time=   0.0s\n",
      "[CV] END ................var_smoothing=8.111308307896873e-06; total time=   0.0s\n",
      "[CV] END ................var_smoothing=8.111308307896873e-06; total time=   0.0s\n",
      "[CV] END ................var_smoothing=8.111308307896873e-06; total time=   0.0s\n",
      "[CV] END ................var_smoothing=8.111308307896873e-06; total time=   0.0s\n",
      "[CV] END ................var_smoothing=8.111308307896873e-06; total time=   0.0s\n",
      "[CV] END ................var_smoothing=6.579332246575683e-06; total time=   0.0s\n",
      "[CV] END ................var_smoothing=6.579332246575683e-06; total time=   0.0s\n",
      "[CV] END ................var_smoothing=6.579332246575683e-06; total time=   0.0s\n",
      "[CV] END ................var_smoothing=6.579332246575683e-06; total time=   0.0s\n",
      "[CV] END ................var_smoothing=6.579332246575683e-06; total time=   0.0s\n",
      "[CV] END ................var_smoothing=5.336699231206313e-06; total time=   0.0s\n",
      "[CV] END ................var_smoothing=5.336699231206313e-06; total time=   0.0s\n",
      "[CV] END ................var_smoothing=5.336699231206313e-06; total time=   0.0s\n",
      "[CV] END ................var_smoothing=5.336699231206313e-06; total time=   0.0s\n",
      "[CV] END ................var_smoothing=5.336699231206313e-06; total time=   0.0s\n",
      "[CV] END ................var_smoothing=4.328761281083053e-06; total time=   0.0s\n",
      "[CV] END ................var_smoothing=4.328761281083053e-06; total time=   0.0s\n",
      "[CV] END ................var_smoothing=4.328761281083053e-06; total time=   0.0s\n",
      "[CV] END ................var_smoothing=4.328761281083053e-06; total time=   0.0s\n",
      "[CV] END ................var_smoothing=4.328761281083053e-06; total time=   0.0s\n",
      "[CV] END ...............var_smoothing=3.5111917342151275e-06; total time=   0.0s\n",
      "[CV] END ...............var_smoothing=3.5111917342151275e-06; total time=   0.0s\n",
      "[CV] END ...............var_smoothing=3.5111917342151275e-06; total time=   0.0s\n",
      "[CV] END ...............var_smoothing=3.5111917342151275e-06; total time=   0.0s\n",
      "[CV] END ...............var_smoothing=3.5111917342151275e-06; total time=   0.0s\n",
      "[CV] END ................var_smoothing=2.848035868435799e-06; total time=   0.0s\n",
      "[CV] END ................var_smoothing=2.848035868435799e-06; total time=   0.0s\n",
      "[CV] END ................var_smoothing=2.848035868435799e-06; total time=   0.0s\n",
      "[CV] END ................var_smoothing=2.848035868435799e-06; total time=   0.0s\n",
      "[CV] END ................var_smoothing=2.848035868435799e-06; total time=   0.0s\n",
      "[CV] END ................var_smoothing=2.310129700083158e-06; total time=   0.0s\n",
      "[CV] END ................var_smoothing=2.310129700083158e-06; total time=   0.0s\n",
      "[CV] END ................var_smoothing=2.310129700083158e-06; total time=   0.0s\n",
      "[CV] END ................var_smoothing=2.310129700083158e-06; total time=   0.0s\n",
      "[CV] END ................var_smoothing=2.310129700083158e-06; total time=   0.0s\n",
      "[CV] END ................var_smoothing=1.873817422860383e-06; total time=   0.0s\n",
      "[CV] END ................var_smoothing=1.873817422860383e-06; total time=   0.0s\n",
      "[CV] END ................var_smoothing=1.873817422860383e-06; total time=   0.0s\n",
      "[CV] END ................var_smoothing=1.873817422860383e-06; total time=   0.0s\n",
      "[CV] END ................var_smoothing=1.873817422860383e-06; total time=   0.0s\n",
      "[CV] END ................var_smoothing=1.519911082952933e-06; total time=   0.0s\n",
      "[CV] END ................var_smoothing=1.519911082952933e-06; total time=   0.0s\n",
      "[CV] END ................var_smoothing=1.519911082952933e-06; total time=   0.0s\n",
      "[CV] END ................var_smoothing=1.519911082952933e-06; total time=   0.0s\n",
      "[CV] END ................var_smoothing=1.519911082952933e-06; total time=   0.0s\n",
      "[CV] END ................var_smoothing=1.232846739442066e-06; total time=   0.0s\n",
      "[CV] END ................var_smoothing=1.232846739442066e-06; total time=   0.0s\n",
      "[CV] END ................var_smoothing=1.232846739442066e-06; total time=   0.0s\n",
      "[CV] END ................var_smoothing=1.232846739442066e-06; total time=   0.0s\n",
      "[CV] END ................var_smoothing=1.232846739442066e-06; total time=   0.0s\n",
      "[CV] END ................................var_smoothing=1e-06; total time=   0.0s\n",
      "[CV] END ................................var_smoothing=1e-06; total time=   0.0s\n",
      "[CV] END ................................var_smoothing=1e-06; total time=   0.0s\n",
      "[CV] END ................................var_smoothing=1e-06; total time=   0.0s\n",
      "[CV] END ................................var_smoothing=1e-06; total time=   0.0s\n",
      "[CV] END ................var_smoothing=8.111308307896872e-07; total time=   0.0s\n",
      "[CV] END ................var_smoothing=8.111308307896872e-07; total time=   0.0s\n",
      "[CV] END ................var_smoothing=8.111308307896872e-07; total time=   0.0s\n",
      "[CV] END ................var_smoothing=8.111308307896872e-07; total time=   0.0s\n",
      "[CV] END ................var_smoothing=8.111308307896872e-07; total time=   0.0s\n",
      "[CV] END ................var_smoothing=6.579332246575682e-07; total time=   0.0s\n",
      "[CV] END ................var_smoothing=6.579332246575682e-07; total time=   0.0s\n",
      "[CV] END ................var_smoothing=6.579332246575682e-07; total time=   0.0s\n",
      "[CV] END ................var_smoothing=6.579332246575682e-07; total time=   0.0s\n",
      "[CV] END ................var_smoothing=6.579332246575682e-07; total time=   0.0s\n",
      "[CV] END ................var_smoothing=5.336699231206313e-07; total time=   0.0s\n",
      "[CV] END ................var_smoothing=5.336699231206313e-07; total time=   0.0s\n",
      "[CV] END ................var_smoothing=5.336699231206313e-07; total time=   0.0s\n",
      "[CV] END ................var_smoothing=5.336699231206313e-07; total time=   0.0s\n",
      "[CV] END ................var_smoothing=5.336699231206313e-07; total time=   0.0s\n",
      "[CV] END ...............var_smoothing=4.3287612810830526e-07; total time=   0.0s\n",
      "[CV] END ...............var_smoothing=4.3287612810830526e-07; total time=   0.0s\n",
      "[CV] END ...............var_smoothing=4.3287612810830526e-07; total time=   0.0s\n",
      "[CV] END ...............var_smoothing=4.3287612810830526e-07; total time=   0.0s\n",
      "[CV] END ...............var_smoothing=4.3287612810830526e-07; total time=   0.0s\n",
      "[CV] END ...............var_smoothing=3.5111917342151277e-07; total time=   0.0s\n",
      "[CV] END ...............var_smoothing=3.5111917342151277e-07; total time=   0.0s\n",
      "[CV] END ...............var_smoothing=3.5111917342151277e-07; total time=   0.0s\n",
      "[CV] END ...............var_smoothing=3.5111917342151277e-07; total time=   0.0s\n",
      "[CV] END ...............var_smoothing=3.5111917342151277e-07; total time=   0.0s\n",
      "[CV] END ................var_smoothing=2.848035868435799e-07; total time=   0.0s\n",
      "[CV] END ................var_smoothing=2.848035868435799e-07; total time=   0.0s\n",
      "[CV] END ................var_smoothing=2.848035868435799e-07; total time=   0.0s\n",
      "[CV] END ................var_smoothing=2.848035868435799e-07; total time=   0.0s\n",
      "[CV] END ................var_smoothing=2.848035868435799e-07; total time=   0.0s\n",
      "[CV] END ................var_smoothing=2.310129700083158e-07; total time=   0.0s\n",
      "[CV] END ................var_smoothing=2.310129700083158e-07; total time=   0.0s\n",
      "[CV] END ................var_smoothing=2.310129700083158e-07; total time=   0.0s\n",
      "[CV] END ................var_smoothing=2.310129700083158e-07; total time=   0.0s\n",
      "[CV] END ................var_smoothing=2.310129700083158e-07; total time=   0.0s\n",
      "[CV] END ................var_smoothing=1.873817422860383e-07; total time=   0.0s\n",
      "[CV] END ................var_smoothing=1.873817422860383e-07; total time=   0.0s\n",
      "[CV] END ................var_smoothing=1.873817422860383e-07; total time=   0.0s\n",
      "[CV] END ................var_smoothing=1.873817422860383e-07; total time=   0.0s\n",
      "[CV] END ................var_smoothing=1.873817422860383e-07; total time=   0.0s\n",
      "[CV] END ................var_smoothing=1.519911082952933e-07; total time=   0.0s\n",
      "[CV] END ................var_smoothing=1.519911082952933e-07; total time=   0.0s\n",
      "[CV] END ................var_smoothing=1.519911082952933e-07; total time=   0.0s\n",
      "[CV] END ................var_smoothing=1.519911082952933e-07; total time=   0.0s\n",
      "[CV] END ................var_smoothing=1.519911082952933e-07; total time=   0.0s\n",
      "[CV] END ................var_smoothing=1.232846739442066e-07; total time=   0.0s\n",
      "[CV] END ................var_smoothing=1.232846739442066e-07; total time=   0.0s\n",
      "[CV] END ................var_smoothing=1.232846739442066e-07; total time=   0.0s\n",
      "[CV] END ................var_smoothing=1.232846739442066e-07; total time=   0.0s\n",
      "[CV] END ................var_smoothing=1.232846739442066e-07; total time=   0.0s\n",
      "[CV] END ................................var_smoothing=1e-07; total time=   0.0s\n",
      "[CV] END ................................var_smoothing=1e-07; total time=   0.0s\n",
      "[CV] END ................................var_smoothing=1e-07; total time=   0.0s\n",
      "[CV] END ................................var_smoothing=1e-07; total time=   0.0s\n",
      "[CV] END ................................var_smoothing=1e-07; total time=   0.0s\n",
      "[CV] END ................var_smoothing=8.111308307896873e-08; total time=   0.0s\n",
      "[CV] END ................var_smoothing=8.111308307896873e-08; total time=   0.0s\n",
      "[CV] END ................var_smoothing=8.111308307896873e-08; total time=   0.0s\n",
      "[CV] END ................var_smoothing=8.111308307896873e-08; total time=   0.0s\n",
      "[CV] END ................var_smoothing=8.111308307896873e-08; total time=   0.0s\n",
      "[CV] END ................var_smoothing=6.579332246575682e-08; total time=   0.0s\n",
      "[CV] END ................var_smoothing=6.579332246575682e-08; total time=   0.0s\n",
      "[CV] END ................var_smoothing=6.579332246575682e-08; total time=   0.0s\n",
      "[CV] END ................var_smoothing=6.579332246575682e-08; total time=   0.0s\n",
      "[CV] END ................var_smoothing=6.579332246575682e-08; total time=   0.0s\n",
      "[CV] END ................var_smoothing=5.336699231206302e-08; total time=   0.0s\n",
      "[CV] END ................var_smoothing=5.336699231206302e-08; total time=   0.0s\n",
      "[CV] END ................var_smoothing=5.336699231206302e-08; total time=   0.0s\n",
      "[CV] END ................var_smoothing=5.336699231206302e-08; total time=   0.0s\n",
      "[CV] END ................var_smoothing=5.336699231206302e-08; total time=   0.0s\n",
      "[CV] END ...............var_smoothing=4.3287612810830526e-08; total time=   0.0s\n",
      "[CV] END ...............var_smoothing=4.3287612810830526e-08; total time=   0.0s\n",
      "[CV] END ...............var_smoothing=4.3287612810830526e-08; total time=   0.0s\n",
      "[CV] END ...............var_smoothing=4.3287612810830526e-08; total time=   0.0s\n",
      "[CV] END ...............var_smoothing=4.3287612810830526e-08; total time=   0.0s\n",
      "[CV] END ...............var_smoothing=3.5111917342151277e-08; total time=   0.0s\n",
      "[CV] END ...............var_smoothing=3.5111917342151277e-08; total time=   0.0s\n",
      "[CV] END ...............var_smoothing=3.5111917342151277e-08; total time=   0.0s\n",
      "[CV] END ...............var_smoothing=3.5111917342151277e-08; total time=   0.0s\n",
      "[CV] END ...............var_smoothing=3.5111917342151277e-08; total time=   0.0s\n",
      "[CV] END ................var_smoothing=2.848035868435799e-08; total time=   0.0s\n",
      "[CV] END ................var_smoothing=2.848035868435799e-08; total time=   0.0s\n",
      "[CV] END ................var_smoothing=2.848035868435799e-08; total time=   0.0s\n",
      "[CV] END ................var_smoothing=2.848035868435799e-08; total time=   0.0s\n",
      "[CV] END ................var_smoothing=2.848035868435799e-08; total time=   0.0s\n",
      "[CV] END ................var_smoothing=2.310129700083158e-08; total time=   0.0s\n",
      "[CV] END ................var_smoothing=2.310129700083158e-08; total time=   0.0s\n",
      "[CV] END ................var_smoothing=2.310129700083158e-08; total time=   0.0s\n",
      "[CV] END ................var_smoothing=2.310129700083158e-08; total time=   0.0s\n",
      "[CV] END ................var_smoothing=2.310129700083158e-08; total time=   0.0s\n",
      "[CV] END ................var_smoothing=1.873817422860383e-08; total time=   0.0s\n",
      "[CV] END ................var_smoothing=1.873817422860383e-08; total time=   0.0s\n",
      "[CV] END ................var_smoothing=1.873817422860383e-08; total time=   0.0s\n",
      "[CV] END ................var_smoothing=1.873817422860383e-08; total time=   0.0s\n",
      "[CV] END ................var_smoothing=1.873817422860383e-08; total time=   0.0s\n",
      "[CV] END ................var_smoothing=1.519911082952933e-08; total time=   0.0s\n",
      "[CV] END ................var_smoothing=1.519911082952933e-08; total time=   0.0s\n",
      "[CV] END ................var_smoothing=1.519911082952933e-08; total time=   0.0s\n",
      "[CV] END ................var_smoothing=1.519911082952933e-08; total time=   0.0s\n",
      "[CV] END ................var_smoothing=1.519911082952933e-08; total time=   0.0s\n",
      "[CV] END ................var_smoothing=1.232846739442066e-08; total time=   0.0s\n",
      "[CV] END ................var_smoothing=1.232846739442066e-08; total time=   0.0s\n",
      "[CV] END ................var_smoothing=1.232846739442066e-08; total time=   0.0s\n",
      "[CV] END ................var_smoothing=1.232846739442066e-08; total time=   0.0s\n",
      "[CV] END ................var_smoothing=1.232846739442066e-08; total time=   0.0s\n",
      "[CV] END ................................var_smoothing=1e-08; total time=   0.0s\n",
      "[CV] END ................................var_smoothing=1e-08; total time=   0.0s\n",
      "[CV] END ................................var_smoothing=1e-08; total time=   0.0s\n",
      "[CV] END ................................var_smoothing=1e-08; total time=   0.0s\n",
      "[CV] END ................................var_smoothing=1e-08; total time=   0.0s\n",
      "[CV] END ................var_smoothing=8.111308307896856e-09; total time=   0.0s\n",
      "[CV] END ................var_smoothing=8.111308307896856e-09; total time=   0.0s\n",
      "[CV] END ................var_smoothing=8.111308307896856e-09; total time=   0.0s\n",
      "[CV] END ................var_smoothing=8.111308307896856e-09; total time=   0.0s\n",
      "[CV] END ................var_smoothing=8.111308307896856e-09; total time=   0.0s\n",
      "[CV] END ................var_smoothing=6.579332246575682e-09; total time=   0.0s\n",
      "[CV] END ................var_smoothing=6.579332246575682e-09; total time=   0.0s\n",
      "[CV] END ................var_smoothing=6.579332246575682e-09; total time=   0.0s\n",
      "[CV] END ................var_smoothing=6.579332246575682e-09; total time=   0.0s\n",
      "[CV] END ................var_smoothing=6.579332246575682e-09; total time=   0.0s\n",
      "[CV] END ................var_smoothing=5.336699231206302e-09; total time=   0.0s\n",
      "[CV] END ................var_smoothing=5.336699231206302e-09; total time=   0.0s\n",
      "[CV] END ................var_smoothing=5.336699231206302e-09; total time=   0.0s\n",
      "[CV] END ................var_smoothing=5.336699231206302e-09; total time=   0.0s\n",
      "[CV] END ................var_smoothing=5.336699231206302e-09; total time=   0.0s\n",
      "[CV] END ................var_smoothing=4.328761281083061e-09; total time=   0.0s\n",
      "[CV] END ................var_smoothing=4.328761281083061e-09; total time=   0.0s\n",
      "[CV] END ................var_smoothing=4.328761281083061e-09; total time=   0.0s\n",
      "[CV] END ................var_smoothing=4.328761281083061e-09; total time=   0.0s\n",
      "[CV] END ................var_smoothing=4.328761281083061e-09; total time=   0.0s\n",
      "[CV] END ...............var_smoothing=3.5111917342151273e-09; total time=   0.0s\n",
      "[CV] END ...............var_smoothing=3.5111917342151273e-09; total time=   0.0s\n",
      "[CV] END ...............var_smoothing=3.5111917342151273e-09; total time=   0.0s\n",
      "[CV] END ...............var_smoothing=3.5111917342151273e-09; total time=   0.0s\n",
      "[CV] END ...............var_smoothing=3.5111917342151273e-09; total time=   0.0s\n",
      "[CV] END ................var_smoothing=2.848035868435805e-09; total time=   0.0s\n",
      "[CV] END ................var_smoothing=2.848035868435805e-09; total time=   0.0s\n",
      "[CV] END ................var_smoothing=2.848035868435805e-09; total time=   0.0s\n",
      "[CV] END ................var_smoothing=2.848035868435805e-09; total time=   0.0s\n",
      "[CV] END ................var_smoothing=2.848035868435805e-09; total time=   0.0s\n",
      "[CV] END ................var_smoothing=2.310129700083158e-09; total time=   0.0s\n",
      "[CV] END ................var_smoothing=2.310129700083158e-09; total time=   0.0s\n",
      "[CV] END ................var_smoothing=2.310129700083158e-09; total time=   0.0s\n",
      "[CV] END ................var_smoothing=2.310129700083158e-09; total time=   0.0s\n",
      "[CV] END ................var_smoothing=2.310129700083158e-09; total time=   0.0s\n",
      "[CV] END ................var_smoothing=1.873817422860387e-09; total time=   0.0s\n",
      "[CV] END ................var_smoothing=1.873817422860387e-09; total time=   0.0s\n",
      "[CV] END ................var_smoothing=1.873817422860387e-09; total time=   0.0s\n",
      "[CV] END ................var_smoothing=1.873817422860387e-09; total time=   0.0s\n",
      "[CV] END ................var_smoothing=1.873817422860387e-09; total time=   0.0s\n",
      "[CV] END ................var_smoothing=1.519911082952933e-09; total time=   0.0s\n",
      "[CV] END ................var_smoothing=1.519911082952933e-09; total time=   0.0s\n",
      "[CV] END ................var_smoothing=1.519911082952933e-09; total time=   0.0s\n",
      "[CV] END ................var_smoothing=1.519911082952933e-09; total time=   0.0s\n",
      "[CV] END ................var_smoothing=1.519911082952933e-09; total time=   0.0s\n",
      "[CV] END ...............var_smoothing=1.2328467394420635e-09; total time=   0.0s\n",
      "[CV] END ...............var_smoothing=1.2328467394420635e-09; total time=   0.0s\n",
      "[CV] END ...............var_smoothing=1.2328467394420635e-09; total time=   0.0s\n",
      "[CV] END ...............var_smoothing=1.2328467394420635e-09; total time=   0.0s\n",
      "[CV] END ...............var_smoothing=1.2328467394420635e-09; total time=   0.0s\n",
      "[CV] END ................................var_smoothing=1e-09; total time=   0.0s\n",
      "[CV] END ................................var_smoothing=1e-09; total time=   0.0s\n",
      "[CV] END ................................var_smoothing=1e-09; total time=   0.0s\n",
      "[CV] END ................................var_smoothing=1e-09; total time=   0.0s\n",
      "[CV] END ................................var_smoothing=1e-09; total time=   0.0s\n",
      "1.0359890460968018\n"
     ]
    }
   ],
   "source": [
    "import time\n",
    "start_time = time.time()\n",
    "grid_search_nb.fit(X_train,y_train)\n",
    "print(time.time() - start_time)"
   ]
  },
  {
   "cell_type": "code",
   "execution_count": 16,
   "metadata": {
    "ExecuteTime": {
     "end_time": "2023-05-06T16:15:53.425445Z",
     "start_time": "2023-05-06T16:15:53.417221Z"
    }
   },
   "outputs": [
    {
     "name": "stdout",
     "output_type": "stream",
     "text": [
      "Tuned Hyperparameters : {'var_smoothing': 0.1}\n",
      "Train F1 Score : 0.5231824236741449\n",
      "Test F1 Score:  0.5277777777777778\n"
     ]
    }
   ],
   "source": [
    "print(\"Tuned Hyperparameters :\", grid_search_nb.best_params_)\n",
    "print(\"Train F1 Score :\",grid_search_nb.best_score_)\n",
    "best_y_pr = grid_search_nb.predict(X_test)\n",
    "print('Test F1 Score: ', f1_score(y_test, best_y_pr))"
   ]
  },
  {
   "cell_type": "code",
   "execution_count": 17,
   "metadata": {
    "collapsed": false,
    "ExecuteTime": {
     "end_time": "2023-05-06T16:15:55.187366Z",
     "start_time": "2023-05-06T16:15:55.177629Z"
    }
   },
   "outputs": [
    {
     "name": "stdout",
     "output_type": "stream",
     "text": [
      "0.5163868904876099\n",
      "0.7841729693467935\n",
      "0.7975308641975308\n",
      "0.7748418310383327\n",
      "0.3817966903073286\n"
     ]
    }
   ],
   "source": [
    "from sklearn.metrics import f1_score, roc_auc_score, recall_score, accuracy_score, precision_score\n",
    "logreg = GaussianNB(var_smoothing=0.0533669923120631)\n",
    "logreg.fit(X_train,y_train)\n",
    "y_pred = logreg.predict(X_test)\n",
    "print(f1_score(y_test,y_pred))\n",
    "print(roc_auc_score(y_test,y_pred))\n",
    "print(recall_score(y_test,y_pred))\n",
    "print(accuracy_score(y_test,y_pred))\n",
    "print(precision_score(y_test,y_pred))"
   ]
  },
  {
   "cell_type": "code",
   "execution_count": 14,
   "metadata": {
    "ExecuteTime": {
     "end_time": "2023-05-06T16:03:13.727540Z",
     "start_time": "2023-05-06T16:03:13.722059Z"
    }
   },
   "outputs": [],
   "source": [
    "# from sklearn.inspection import permutation_importance\n",
    "# imps = permutation_importance(grid_search_nb, X_test, y_test)\n",
    "# # imps['importances']\n",
    "# imps"
   ]
  },
  {
   "cell_type": "code",
   "execution_count": 18,
   "metadata": {
    "ExecuteTime": {
     "end_time": "2023-05-06T16:16:09.789479Z",
     "start_time": "2023-05-06T16:16:09.517138Z"
    }
   },
   "outputs": [
    {
     "data": {
      "text/plain": "<Figure size 720x432 with 1 Axes>",
      "image/png": "[encoded data removed]"
     },
     "metadata": {},
     "output_type": "display_data"
    }
   ],
   "source": [
    "from sklearn.inspection import permutation_importance\n",
    "feat_importances = permutation_importance(grid_search_nb, X_test, y_test)['importances_mean']\n",
    "indices = np.argsort(feat_importances)\n",
    "# plot\n",
    "fig, ax = plt.subplots(figsize=(10, 6))\n",
    "plt.title(\"Ranked feature importances\")\n",
    "plt.barh(range(len(feat_importances)), feat_importances[indices], align=\"center\")\n",
    "features = ['feature_{}'.format(X_train.columns[i]) for i in range(len(X_train.columns))]\n",
    "plt.yticks(range(len(feat_importances)), [features[idx] for idx in indices])\n",
    "plt.ylim([-1, len(feat_importances)])\n",
    "plt.show();"
   ]
  },
  {
   "cell_type": "code",
   "execution_count": 19,
   "metadata": {
    "colab": {
     "base_uri": "https://localhost:8080/"
    },
    "executionInfo": {
     "elapsed": 13,
     "status": "ok",
     "timestamp": 1667802956164,
     "user": {
      "displayName": "Victor Wong",
      "userId": "11168613095769754614"
     },
     "user_tz": -480
    },
    "id": "CPTd5CJ9wlhe",
    "outputId": "fe835adb-c039-4a5f-a198-1c7d821800f2",
    "ExecuteTime": {
     "end_time": "2023-05-06T16:16:22.005325Z",
     "start_time": "2023-05-06T16:16:21.996091Z"
    }
   },
   "outputs": [
    {
     "name": "stdout",
     "output_type": "stream",
     "text": [
      "Accuracy Score:  0.7975437290658727\n",
      "Test F1 Score:  0.5277777777777778\n"
     ]
    }
   ],
   "source": [
    "best_y_pr = grid_search_nb.predict(X_test)\n",
    "print('Accuracy Score: ', accuracy_score(y_test, best_y_pr))\n",
    "print('Test F1 Score: ', f1_score(y_test, best_y_pr))"
   ]
  },
  {
   "cell_type": "code",
   "execution_count": 21,
   "metadata": {
    "colab": {
     "base_uri": "https://localhost:8080/"
    },
    "executionInfo": {
     "elapsed": 3,
     "status": "ok",
     "timestamp": 1667803038910,
     "user": {
      "displayName": "Victor Wong",
      "userId": "11168613095769754614"
     },
     "user_tz": -480
    },
    "id": "8n2Nh5Flwkvt",
    "outputId": "67d223ea-0171-4035-c00d-889635da1d3c",
    "ExecuteTime": {
     "end_time": "2023-05-06T16:16:34.442072Z",
     "start_time": "2023-05-06T16:16:34.435108Z"
    }
   },
   "outputs": [
    {
     "data": {
      "text/plain": "GaussianNB(var_smoothing=0.0533669923120631)"
     },
     "execution_count": 21,
     "metadata": {},
     "output_type": "execute_result"
    }
   ],
   "source": [
    "best_nb = GaussianNB(var_smoothing=0.0533669923120631)\n",
    "best_nb.fit(X_train,y_train)"
   ]
  },
  {
   "cell_type": "code",
   "execution_count": 22,
   "metadata": {
    "colab": {
     "base_uri": "https://localhost:8080/"
    },
    "executionInfo": {
     "elapsed": 2,
     "status": "ok",
     "timestamp": 1667803040751,
     "user": {
      "displayName": "Victor Wong",
      "userId": "11168613095769754614"
     },
     "user_tz": -480
    },
    "id": "nEVunU0Tzryy",
    "outputId": "6acdb83a-7489-4a87-81fd-0c180012ca99",
    "ExecuteTime": {
     "end_time": "2023-05-06T16:16:38.681837Z",
     "start_time": "2023-05-06T16:16:38.678093Z"
    }
   },
   "outputs": [
    {
     "data": {
      "text/plain": "array([[ 4.50431381e-02,  4.49122307e-02,  5.79000687e-02,\n        -1.09286775e-02,  9.08730874e-02,  1.19680654e-01,\n        -1.31309000e-02,  6.26340038e-02,  9.01248544e-02,\n         1.37755910e-01, -1.83734193e-04],\n       [-2.53766844e-01, -2.53029329e-01, -3.26201022e-01,\n         6.15706656e-02, -5.11966473e-01, -6.74264341e-01,\n         7.39776840e-02, -3.52871361e-01, -5.07751031e-01,\n        -7.76097847e-01,  1.03513317e-03]])"
     },
     "execution_count": 22,
     "metadata": {},
     "output_type": "execute_result"
    }
   ],
   "source": [
    "best_nb.theta_"
   ]
  },
  {
   "cell_type": "code",
   "execution_count": 23,
   "metadata": {
    "colab": {
     "base_uri": "https://localhost:8080/"
    },
    "executionInfo": {
     "elapsed": 3,
     "status": "ok",
     "timestamp": 1667803353906,
     "user": {
      "displayName": "Victor Wong",
      "userId": "11168613095769754614"
     },
     "user_tz": -480
    },
    "id": "uZlRdZ7s03n2",
    "outputId": "5df71e64-3af8-4486-8beb-6529a8d1db67",
    "ExecuteTime": {
     "end_time": "2023-05-06T16:16:42.475674Z",
     "start_time": "2023-05-06T16:16:42.471147Z"
    }
   },
   "outputs": [
    {
     "data": {
      "text/plain": "array([[0.99016285, 1.11496023, 1.0829064 , 0.79781597, 1.10612574,\n        1.03552904, 1.02782895, 1.0893204 , 0.96448453, 0.98226678,\n        1.23086192],\n       [1.33362238, 0.63097121, 0.76165187, 2.48864248, 0.44749783,\n        0.61853474, 1.1908007 , 0.70419047, 1.25054646, 0.7446959 ,\n        0.05338371]])"
     },
     "execution_count": 23,
     "metadata": {},
     "output_type": "execute_result"
    }
   ],
   "source": [
    "best_nb.var_"
   ]
  },
  {
   "cell_type": "code",
   "execution_count": 24,
   "metadata": {
    "colab": {
     "base_uri": "https://localhost:8080/"
    },
    "executionInfo": {
     "elapsed": 391,
     "status": "ok",
     "timestamp": 1667803088274,
     "user": {
      "displayName": "Victor Wong",
      "userId": "11168613095769754614"
     },
     "user_tz": -480
    },
    "id": "HiQ9zFtMz3BB",
    "outputId": "058a95ba-0159-4afa-aca1-0a4f7e466805",
    "ExecuteTime": {
     "end_time": "2023-05-06T16:16:46.486565Z",
     "start_time": "2023-05-06T16:16:46.480380Z"
    }
   },
   "outputs": [
    {
     "data": {
      "text/plain": "array([0, 1])"
     },
     "execution_count": 24,
     "metadata": {},
     "output_type": "execute_result"
    }
   ],
   "source": [
    "best_nb.classes_"
   ]
  },
  {
   "cell_type": "code",
   "execution_count": 28,
   "metadata": {
    "id": "4zDhY1kmwL5F",
    "ExecuteTime": {
     "end_time": "2023-05-06T16:18:10.332546Z",
     "start_time": "2023-05-06T16:18:10.328168Z"
    }
   },
   "outputs": [],
   "source": [
    "feature_dict = {'feature_name': [], 'mean': [], 'variance': [], 'fraud': []}\n",
    "\n",
    "for label in range(len(best_nb.theta_)):\n",
    "     for mean, var, col_name in zip(best_nb.theta_[label], best_nb.var_[label], X_train.columns):\n",
    "        feature_dict['feature_name'].append(col_name)\n",
    "        feature_dict['mean'].append(mean)\n",
    "        feature_dict['variance'].append(var)\n",
    "        feature_dict['fraud'].append(label)\n",
    "df2 = pd.DataFrame(feature_dict)"
   ]
  },
  {
   "cell_type": "code",
   "execution_count": 29,
   "metadata": {
    "colab": {
     "base_uri": "https://localhost:8080/",
     "height": 802
    },
    "executionInfo": {
     "elapsed": 6,
     "status": "ok",
     "timestamp": 1667803419984,
     "user": {
      "displayName": "Victor Wong",
      "userId": "11168613095769754614"
     },
     "user_tz": -480
    },
    "id": "Uo76zOnC0vx-",
    "outputId": "8a0dcf10-7c81-4ed7-eeeb-de85cc6ceeed",
    "ExecuteTime": {
     "end_time": "2023-05-06T16:18:13.662847Z",
     "start_time": "2023-05-06T16:18:13.659360Z"
    }
   },
   "outputs": [
    {
     "data": {
      "text/plain": "                             feature_name      mean  variance  fraud\n0                avg_min_between_sent_txn  0.045043  0.990163      0\n1            avg_min_between_received_txn  0.044912  1.114960      0\n2   time_diff_between_first_and_last_mins  0.057900  1.082906      0\n3          unique_received_from_addresses -0.010929  0.797816      0\n4                        min_val_received  0.090873  1.106126      0\n5                        max_val_received  0.119681  1.035529      0\n6                            min_val_sent -0.013131  1.027829      0\n7                            avg_val_sent  0.062634  1.089320      0\n8             total_transactions_inc_cnts  0.090125  0.964485      0\n9                    total_ether_received  0.137756  0.982267      0\n10                    total_ether_balance -0.000184  1.230862      0\n11               avg_min_between_sent_txn -0.253767  1.333622      1\n12           avg_min_between_received_txn -0.253029  0.630971      1\n13  time_diff_between_first_and_last_mins -0.326201  0.761652      1\n14         unique_received_from_addresses  0.061571  2.488642      1\n15                       min_val_received -0.511966  0.447498      1\n16                       max_val_received -0.674264  0.618535      1\n17                           min_val_sent  0.073978  1.190801      1\n18                           avg_val_sent -0.352871  0.704190      1\n19            total_transactions_inc_cnts -0.507751  1.250546      1\n20                   total_ether_received -0.776098  0.744696      1\n21                    total_ether_balance  0.001035  0.053384      1",
      "text/html": "<div>\n<style scoped>\n    .dataframe tbody tr th:only-of-type {\n        vertical-align: middle;\n    }\n\n    .dataframe tbody tr th {\n        vertical-align: top;\n    }\n\n    .dataframe thead th {\n        text-align: right;\n    }\n</style>\n<table border=\"1\" class=\"dataframe\">\n  <thead>\n    <tr style=\"text-align: right;\">\n      <th></th>\n      <th>feature_name</th>\n      <th>mean</th>\n      <th>variance</th>\n      <th>fraud</th>\n    </tr>\n  </thead>\n  <tbody>\n    <tr>\n      <th>0</th>\n      <td>avg_min_between_sent_txn</td>\n      <td>0.045043</td>\n      <td>0.990163</td>\n      <td>0</td>\n    </tr>\n    <tr>\n      <th>1</th>\n      <td>avg_min_between_received_txn</td>\n      <td>0.044912</td>\n      <td>1.114960</td>\n      <td>0</td>\n    </tr>\n    <tr>\n      <th>2</th>\n      <td>time_diff_between_first_and_last_mins</td>\n      <td>0.057900</td>\n      <td>1.082906</td>\n      <td>0</td>\n    </tr>\n    <tr>\n      <th>3</th>\n      <td>unique_received_from_addresses</td>\n      <td>-0.010929</td>\n      <td>0.797816</td>\n      <td>0</td>\n    </tr>\n    <tr>\n      <th>4</th>\n      <td>min_val_received</td>\n      <td>0.090873</td>\n      <td>1.106126</td>\n      <td>0</td>\n    </tr>\n    <tr>\n      <th>5</th>\n      <td>max_val_received</td>\n      <td>0.119681</td>\n      <td>1.035529</td>\n      <td>0</td>\n    </tr>\n    <tr>\n      <th>6</th>\n      <td>min_val_sent</td>\n      <td>-0.013131</td>\n      <td>1.027829</td>\n      <td>0</td>\n    </tr>\n    <tr>\n      <th>7</th>\n      <td>avg_val_sent</td>\n      <td>0.062634</td>\n      <td>1.089320</td>\n      <td>0</td>\n    </tr>\n    <tr>\n      <th>8</th>\n      <td>total_transactions_inc_cnts</td>\n      <td>0.090125</td>\n      <td>0.964485</td>\n      <td>0</td>\n    </tr>\n    <tr>\n      <th>9</th>\n      <td>total_ether_received</td>\n      <td>0.137756</td>\n      <td>0.982267</td>\n      <td>0</td>\n    </tr>\n    <tr>\n      <th>10</th>\n      <td>total_ether_balance</td>\n      <td>-0.000184</td>\n      <td>1.230862</td>\n      <td>0</td>\n    </tr>\n    <tr>\n      <th>11</th>\n      <td>avg_min_between_sent_txn</td>\n      <td>-0.253767</td>\n      <td>1.333622</td>\n      <td>1</td>\n    </tr>\n    <tr>\n      <th>12</th>\n      <td>avg_min_between_received_txn</td>\n      <td>-0.253029</td>\n      <td>0.630971</td>\n      <td>1</td>\n    </tr>\n    <tr>\n      <th>13</th>\n      <td>time_diff_between_first_and_last_mins</td>\n      <td>-0.326201</td>\n      <td>0.761652</td>\n      <td>1</td>\n    </tr>\n    <tr>\n      <th>14</th>\n      <td>unique_received_from_addresses</td>\n      <td>0.061571</td>\n      <td>2.488642</td>\n      <td>1</td>\n    </tr>\n    <tr>\n      <th>15</th>\n      <td>min_val_received</td>\n      <td>-0.511966</td>\n      <td>0.447498</td>\n      <td>1</td>\n    </tr>\n    <tr>\n      <th>16</th>\n      <td>max_val_received</td>\n      <td>-0.674264</td>\n      <td>0.618535</td>\n      <td>1</td>\n    </tr>\n    <tr>\n      <th>17</th>\n      <td>min_val_sent</td>\n      <td>0.073978</td>\n      <td>1.190801</td>\n      <td>1</td>\n    </tr>\n    <tr>\n      <th>18</th>\n      <td>avg_val_sent</td>\n      <td>-0.352871</td>\n      <td>0.704190</td>\n      <td>1</td>\n    </tr>\n    <tr>\n      <th>19</th>\n      <td>total_transactions_inc_cnts</td>\n      <td>-0.507751</td>\n      <td>1.250546</td>\n      <td>1</td>\n    </tr>\n    <tr>\n      <th>20</th>\n      <td>total_ether_received</td>\n      <td>-0.776098</td>\n      <td>0.744696</td>\n      <td>1</td>\n    </tr>\n    <tr>\n      <th>21</th>\n      <td>total_ether_balance</td>\n      <td>0.001035</td>\n      <td>0.053384</td>\n      <td>1</td>\n    </tr>\n  </tbody>\n</table>\n</div>"
     },
     "execution_count": 29,
     "metadata": {},
     "output_type": "execute_result"
    }
   ],
   "source": [
    "df2"
   ]
  },
  {
   "cell_type": "code",
   "execution_count": null,
   "metadata": {},
   "outputs": [],
   "source": []
  }
 ],
 "metadata": {
  "colab": {
   "collapsed_sections": [],
   "provenance": []
  },
  "kernelspec": {
   "display_name": "Python 3.10.6 64-bit",
   "language": "python",
   "name": "python3"
  },
  "language_info": {
   "codemirror_mode": {
    "name": "ipython",
    "version": 3
   },
   "file_extension": ".py",
   "mimetype": "text/x-python",
   "name": "python",
   "nbconvert_exporter": "python",
   "pygments_lexer": "ipython3",
   "version": "3.10.6"
  },
  "vscode": {
   "interpreter": {
    "hash": "aee8b7b246df8f9039afb4144a1f6fd8d2ca17a180786b69acc140d282b71a49"
   }
  }
 },
 "nbformat": 4,
 "nbformat_minor": 1
}
